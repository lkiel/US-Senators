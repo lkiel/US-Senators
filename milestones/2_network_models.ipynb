{
 "cells": [
  {
   "cell_type": "markdown",
   "metadata": {},
   "source": [
    "# [NTDS'18] milestone 2: network models\n",
    "[ntds'18]: https://github.com/mdeff/ntds_2018\n",
    "\n",
    "[Hermina Petric Maretic](https://people.epfl.ch/hermina.petricmaretic), [EPFL LTS4](https://lts4.epfl.ch)"
   ]
  },
  {
   "cell_type": "markdown",
   "metadata": {},
   "source": [
    "## Students\n",
    "\n",
    "* Team: `18`\n",
    "* Students: ` Quentin Bacuet, Ali Alami-Idrissi, Keshav Singh, Leandro Kieliger`\n",
    "* Dataset: `US-Senators`"
   ]
  },
  {
   "cell_type": "markdown",
   "metadata": {},
   "source": [
    "## Rules\n",
    "\n",
    "* Milestones have to be completed by teams. No collaboration between teams is allowed.\n",
    "* Textual answers shall be short. Typically one to two sentences.\n",
    "* Code has to be clean.\n",
    "* In the first part, you cannot import any other library than we imported. In the second part, you are allowed to import any library you want.\n",
    "* When submitting, the notebook is executed and the results are stored. I.e., if you open the notebook again it should show numerical results and plots. We won't be able to execute your notebooks.\n",
    "* The notebook is re-executed from a blank state before submission. That is to be sure it is reproducible. You can click \"Kernel\" then \"Restart & Run All\" in Jupyter."
   ]
  },
  {
   "cell_type": "markdown",
   "metadata": {},
   "source": [
    "## Objective\n",
    "\n",
    "The purpose of this milestone is to explore various random network models, analyse their properties and compare them to your network. In the first part of the milestone you will implement two random graph models and try to fit them to your network. In this part you are not allowed to use any additional package. In the second part of the milestone you will choose a third random graph model that you think shares some properties with your network. You will be allowed to use additional packages to construct this network, but you must explain your network choice. Finally, make your code as clean as possible, and keep your textual answers short."
   ]
  },
  {
   "cell_type": "markdown",
   "metadata": {},
   "source": [
    "## Part 0\n",
    "\n",
    "Import the adjacency matrix of your graph that you constructed in milestone 1, as well as the number of nodes and edges of your network."
   ]
  },
  {
   "cell_type": "code",
   "execution_count": 1,
   "metadata": {
    "collapsed": true
   },
   "outputs": [],
   "source": [
    "import numpy as np\n",
    "\n",
    "ADJACENCY_PATH = '../data/adjacency_matrices/'\n",
    "ADJACENCY_COSINE_PATH = ADJACENCY_PATH + 'cosine'\n",
    "ADJACENCY_EUC_PATH = ADJACENCY_PATH + 'eucledian'"
   ]
  },
  {
   "cell_type": "code",
   "execution_count": 2,
   "metadata": {
    "collapsed": true
   },
   "outputs": [],
   "source": [
    "adjacency =  np.load(ADJACENCY_COSINE_PATH+'.npy')\n",
    "n_nodes =  adjacency.shape[0]\n",
    "n_edges =  np.count_nonzero(adjacency) / 2"
   ]
  },
  {
   "cell_type": "code",
   "execution_count": 3,
   "metadata": {
    "collapsed": true
   },
   "outputs": [],
   "source": [
    "node_degrees = np.count_nonzero(adjacency, axis=1)\n",
    "# Removing disconnected nodes\n",
    "nodes_to_keep = np.nonzero(node_degrees)[0]\n",
    "adjacency = adjacency[nodes_to_keep,:][:,nodes_to_keep]\n",
    "node_degrees = np.count_nonzero(adjacency, axis=1)\n",
    "n_nodes =  adjacency.shape[0]\n",
    "n_edges =  np.count_nonzero(adjacency) / 2\n"
   ]
  },
  {
   "cell_type": "markdown",
   "metadata": {},
   "source": [
    "**Note:** The network sparsification method was changed for this milestone. We keep only links with weight higher than 0.895. Please refer to the function \"sparsify_with_limit\" in Milestone 1 for more details."
   ]
  },
  {
   "cell_type": "markdown",
   "metadata": {},
   "source": [
    "## Part 1\n",
    "\n",
    "**For the computation of this part of the milestone you are only allowed to use the packages that have been imported in the cell below.**"
   ]
  },
  {
   "cell_type": "code",
   "execution_count": 4,
   "metadata": {
    "collapsed": true
   },
   "outputs": [],
   "source": [
    "%matplotlib inline\n",
    "\n",
    "import random\n",
    "\n",
    "import numpy as np\n",
    "import pandas as pd\n",
    "import matplotlib.pyplot as plt\n",
    "import scipy"
   ]
  },
  {
   "cell_type": "markdown",
   "metadata": {},
   "source": [
    "### Question 1\n",
    "\n",
    "Create a function that constructs an Erdős–Rényi graph."
   ]
  },
  {
   "cell_type": "code",
   "execution_count": 5,
   "metadata": {
    "collapsed": true
   },
   "outputs": [],
   "source": [
    "def erdos_renyi(n, p, seed=None):\n",
    "    \"\"\"Create an instance from the Erdos-Renyi graph model.\n",
    "    \n",
    "    Parameters\n",
    "    ----------\n",
    "    n: int\n",
    "        Size of the graph.\n",
    "    p: float\n",
    "        Edge probability. A number between 0 and 1.\n",
    "    seed: int (optional)\n",
    "        Seed for the random number generator. To get reproducible results.\n",
    "    \n",
    "    Returns\n",
    "    -------\n",
    "    adjacency\n",
    "        The adjacency matrix of a graph.\n",
    "    \"\"\"\n",
    "    \n",
    "    np.random.seed(seed=seed)\n",
    "    adjacency = np.random.uniform(0.0, 1.0, size=(n,n))\n",
    "    adjacency = (adjacency < p).astype(int)\n",
    "    adjacency = np.tril(adjacency, -1) + np.tril(adjacency, -1).T\n",
    "    return adjacency"
   ]
  },
  {
   "cell_type": "code",
   "execution_count": 6,
   "metadata": {},
   "outputs": [
    {
     "data": {
      "text/plain": [
       "Text(0.5,1.05,'Erdos-Renyi (5, 0.6)')"
      ]
     },
     "execution_count": 6,
     "metadata": {},
     "output_type": "execute_result"
    },
    {
     "data": {
      "image/png": "[encoded data removed]",
      "text/plain": [
       "<matplotlib.figure.Figure at 0x1e6e6864f98>"
      ]
     },
     "metadata": {},
     "output_type": "display_data"
    }
   ],
   "source": [
    "er = erdos_renyi(5, 0.5)\n",
    "plt.spy(er)\n",
    "plt.title('Erdos-Renyi (5, 0.5)')"
   ]
  },
  {
   "cell_type": "code",
   "execution_count": 7,
   "metadata": {},
   "outputs": [
    {
     "data": {
      "text/plain": [
       "Text(0.5,1.05,'Erdos-Renyi (10, 0.4)')"
      ]
     },
     "execution_count": 7,
     "metadata": {},
     "output_type": "execute_result"
    },
    {
     "data": {
      "image/png": "[encoded data removed]",
      "text/plain": [
       "<matplotlib.figure.Figure at 0x1e6e6864be0>"
      ]
     },
     "metadata": {},
     "output_type": "display_data"
    }
   ],
   "source": [
    "er = erdos_renyi(10, 0.9)\n",
    "plt.spy(er)\n",
    "plt.title('Erdos-Renyi (10, 0.9)')"
   ]
  },
  {
   "cell_type": "markdown",
   "metadata": {},
   "source": [
    "### Question 2\n",
    "\n",
    "Use the function to create a random Erdos-Renyi graph. Choose the parameters such that number of nodes is the same as in your graph, and the number of edges similar. You don't need to set the random seed. Comment on your choice of parameters."
   ]
  },
  {
   "cell_type": "code",
   "execution_count": 8,
   "metadata": {},
   "outputs": [
    {
     "data": {
      "text/plain": [
       "Text(0.5,1.05,'Erdos-Renyi US Senators (n_nodes, p_edge)')"
      ]
     },
     "execution_count": 8,
     "metadata": {},
     "output_type": "execute_result"
    },
    {
     "data": {
      "image/png": "[encoded data removed]",
      "text/plain": [
       "<matplotlib.figure.Figure at 0x1e6e6864978>"
      ]
     },
     "metadata": {},
     "output_type": "display_data"
    }
   ],
   "source": [
    "p_edge  =  n_edges/(n_nodes*(n_nodes-1)/2.0)\n",
    "erdos_model = erdos_renyi(n_nodes,p_edge)\n",
    "plt.figure(figsize=(10,10))\n",
    "plt.spy(erdos_model, markersize=3)\n",
    "plt.title('Erdos-Renyi US Senators (n_nodes, p_edge)')"
   ]
  },
  {
   "cell_type": "markdown",
   "metadata": {},
   "source": [
    "In order to be able to compare the graph above to our network,we chose the following parameters for the Erdos-Renyi model:\n",
    "- We set the  number of nodes to be equal to the number of nodes in our graph\n",
    "- We set the link probability to be equal to the proportion of edges in our network compared to a fully connected one.\n"
   ]
  },
  {
   "cell_type": "markdown",
   "metadata": {},
   "source": [
    "### Question 3\n",
    "\n",
    "Create a function that constructs a Barabási-Albert graph."
   ]
  },
  {
   "cell_type": "code",
   "execution_count": 9,
   "metadata": {
    "collapsed": true
   },
   "outputs": [],
   "source": [
    "def add_node_and_edges(adjacency, node_nb, m):\n",
    "    \"\"\"Add a node to the graph\n",
    "    \n",
    "    Parameters\n",
    "    ----------\n",
    "    adjacency\n",
    "        The adjacency matrix of a graph.\n",
    "    node_nb: int\n",
    "        node to add\n",
    "    m: int (optional)\n",
    "        number of edges that connects the new node to the graph\n",
    "    \n",
    "    Returns\n",
    "    -------\n",
    "    adjacency\n",
    "        The adjacency matrix of a graph.\n",
    "    \"\"\"\n",
    "    node_degree = np.sum(adjacency[:node_nb],axis = 1)\n",
    "    total_degrees = np.sum(node_degree)\n",
    "    nodes_probabilities = node_degree / total_degrees\n",
    "    new_edges = np.random.choice(node_nb, size=m, p=nodes_probabilities)\n",
    "    adjacency[node_nb,new_edges] = 1\n",
    "    adjacency[new_edges,node_nb] = 1\n",
    "\n",
    "def barabasi_albert(n, m, m0=2, seed=None):\n",
    "    \"\"\"Create an instance from the Barabasi-Albert graph model.\n",
    "    \n",
    "    Parameters\n",
    "    ----------\n",
    "    n: int\n",
    "        Size of the graph.\n",
    "    m: int\n",
    "        Number of edges to attach from a new node to existing nodes.\n",
    "    m0: int (optional)\n",
    "        Number of nodes for the inital connected network.\n",
    "    seed: int (optional)\n",
    "        Seed for the random number generator. To get reproducible results.\n",
    "    \n",
    "    Returns\n",
    "    -------\n",
    "    adjacency\n",
    "        The adjacency matrix of a graph.\n",
    "    \"\"\"\n",
    "    assert m<=m0, \"invalid Number of edges to attach from a new node to existing nodes, {} {}\".format(m,m0)\n",
    "    np.random.seed(seed=seed)\n",
    "    \n",
    "    # Create graph\n",
    "    adjacency = np.zeros((n,n))\n",
    "    \n",
    "    # Add initial edges\n",
    "    initial_component = np.zeros((m0,m0))\n",
    "    for i in range(0, m0-1):\n",
    "        pick = np.random.choice(list(range(i+1, m0)), size=np.random.randint(1, m0 - i))\n",
    "        initial_component[i,pick] = 1\n",
    "    initial_component = initial_component + initial_component.T\n",
    "    \n",
    "    adjacency[:m0,:m0] = initial_component\n",
    "    \n",
    "    # Iterative adding process\n",
    "    for step in range(m0, n):\n",
    "        add_node_and_edges(adjacency, step, m)\n",
    "        \n",
    "    \n",
    "    return adjacency\n"
   ]
  },
  {
   "cell_type": "code",
   "execution_count": 10,
   "metadata": {},
   "outputs": [
    {
     "data": {
      "text/plain": [
       "Text(0.5,1.05,'Barabasi-Albert (5, 1)')"
      ]
     },
     "execution_count": 10,
     "metadata": {},
     "output_type": "execute_result"
    },
    {
     "data": {
      "image/png": "[encoded data removed]",
      "text/plain": [
       "<matplotlib.figure.Figure at 0x1e6e8d1ff60>"
      ]
     },
     "metadata": {},
     "output_type": "display_data"
    }
   ],
   "source": [
    "ba = barabasi_albert(15, 10, 10)\n",
    "plt.spy(ba)\n",
    "plt.title('Barabasi-Albert (5, 1)')"
   ]
  },
  {
   "cell_type": "code",
   "execution_count": 11,
   "metadata": {},
   "outputs": [
    {
     "data": {
      "text/plain": [
       "Text(0.5,1.05,'Barabasi-Albert (10, 2)')"
      ]
     },
     "execution_count": 11,
     "metadata": {},
     "output_type": "execute_result"
    },
    {
     "data": {
      "image/png": "[encoded data removed]",
      "text/plain": [
       "<matplotlib.figure.Figure at 0x1e6e8ac9c88>"
      ]
     },
     "metadata": {},
     "output_type": "display_data"
    }
   ],
   "source": [
    "ba = barabasi_albert(10, 2,2)\n",
    "plt.spy(ba)\n",
    "plt.title('Barabasi-Albert (10, 2)')"
   ]
  },
  {
   "cell_type": "markdown",
   "metadata": {},
   "source": [
    "### Question 4\n",
    "\n",
    "Use the function to create a random Barabási-Albert graph. Choose the parameters such that number of nodes is the same as in your graph, and the number of edges similar. You don't need to set the random seed. Comment on your choice of parameters."
   ]
  },
  {
   "cell_type": "code",
   "execution_count": 12,
   "metadata": {},
   "outputs": [
    {
     "data": {
      "text/plain": [
       "Text(0.5,1.05,'Barabasi-Albert (34,45)')"
      ]
     },
     "execution_count": 12,
     "metadata": {},
     "output_type": "execute_result"
    },
    {
     "data": {
      "image/png": "[encoded data removed]",
      "text/plain": [
       "<matplotlib.figure.Figure at 0x1e6e8b2f8d0>"
      ]
     },
     "metadata": {},
     "output_type": "display_data"
    }
   ],
   "source": [
    "barabasi_model = barabasi_albert(n_nodes, int(np.mean(node_degrees)), int(np.max(node_degrees)))\n",
    "plt.spy(barabasi_model)\n",
    "plt.title('Barabasi-Albert ({},{})'.format(int(np.mean(node_degrees)),int(np.max(node_degrees))))"
   ]
  },
  {
   "cell_type": "markdown",
   "metadata": {},
   "source": [
    "We know that m is the number of edges each node as when it is added to the graph. Hence we can choose m to be equal to the average degree, to ensure that the number of edges and the mean degree of the generated graph are close to the original one.\n",
    "Furthermore , we chose to set the $m_0$ parameter to be equal to be our maximum degree since the number of nodes for the inital connected network has to be at least as big as our average degree and that our network has large clustering coefficients."
   ]
  },
  {
   "cell_type": "markdown",
   "metadata": {},
   "source": [
    "### Question 5\n",
    "\n",
    "Compare the number of edges in all three networks (your real network, the Erdős–Rényi network, and the Barabási-Albert netowk)."
   ]
  },
  {
   "cell_type": "code",
   "execution_count": 13,
   "metadata": {},
   "outputs": [
    {
     "name": "stdout",
     "output_type": "stream",
     "text": [
      "The real network has 1581.0 edges.\n",
      "The Erdős–Rényi model has 1554.0 edges.\n",
      "The Barabási-Albert model has 1575.0 edges.\n"
     ]
    }
   ],
   "source": [
    "n_edges\n",
    "erdos_renyi_edgecount = np.sum(erdos_model)/2.0\n",
    "barabasi_edgecount = np.sum(barabasi_model)/2.0\n",
    "\n",
    "print(\"The real network has {count} edges.\".format(count=n_edges))\n",
    "print(\"The Erdős–Rényi model has {count} edges.\".format(count=erdos_renyi_edgecount))\n",
    "print(\"The Barabási-Albert model has {count} edges.\".format(count=barabasi_edgecount))"
   ]
  },
  {
   "cell_type": "markdown",
   "metadata": {},
   "source": [
    "### Question 6\n",
    "\n",
    "Implement a function that computes the [Kullback–Leibler (KL) divergence](https://en.wikipedia.org/wiki/Kullback%E2%80%93Leibler_divergence) between two probability distributions.\n",
    "We'll use it to compare the degree distributions of networks."
   ]
  },
  {
   "cell_type": "code",
   "execution_count": 14,
   "metadata": {
    "collapsed": true
   },
   "outputs": [],
   "source": [
    "def kl_divergence(p, q):\n",
    "    \"\"\"Compute the KL divergence between probability distributions of degrees of two networks.\n",
    "    \n",
    "    Parameters\n",
    "    ----------\n",
    "    p: np.array\n",
    "        Probability distribution of degrees of the 1st graph.\n",
    "    q: np.array\n",
    "        Probability distribution of degrees of the 2nd graph.\n",
    "    \n",
    "    Returns\n",
    "    -------\n",
    "    kl\n",
    "        The KL divergence between the two distributions.\n",
    "    \"\"\"\n",
    "    \n",
    "    mask = np.all([p > 0.0, q > 0.0], axis=0)\n",
    "    kl = np.sum(np.log(p[mask]/q[mask])*p[mask])\n",
    "    \n",
    "    return kl"
   ]
  },
  {
   "cell_type": "code",
   "execution_count": 15,
   "metadata": {},
   "outputs": [
    {
     "data": {
      "text/plain": [
       "0.057536414490356194"
      ]
     },
     "execution_count": 15,
     "metadata": {},
     "output_type": "execute_result"
    }
   ],
   "source": [
    "# Example of the KL divergence\n",
    "p_test = np.array([0.2, 0.0, 0.2, 0.4])\n",
    "q_test = np.array([0.3, 0.3, 0.1, 0.0])\n",
    "kl_divergence(p_test, q_test)"
   ]
  },
  {
   "cell_type": "markdown",
   "metadata": {},
   "source": [
    "### Question 7\n",
    "\n",
    "Compare the degree distribution of your network to each of the two synthetic ones, in terms of KL divergence. **Hint:** Make sure you normalise your degree distributions to make them valid probability distributions."
   ]
  },
  {
   "cell_type": "code",
   "execution_count": 16,
   "metadata": {},
   "outputs": [],
   "source": [
    "def bin_range_adjust(degrees,bins):\n",
    "    \"\"\"Compute a binrange such that the degrees histogram contains no zero valued bin.\n",
    "    \n",
    "    Parameters\n",
    "    ----------\n",
    "    degrees: np.array\n",
    "        Degrees vector\n",
    "    bins: np.array\n",
    "        Initial bins.\n",
    "    \n",
    "    Returns\n",
    "    -------\n",
    "    ret\n",
    "        adjusted bins such that the degrees histogram contains no zero valued bin.\n",
    "    \"\"\"\n",
    "    ret = bins.copy()\n",
    "    dist = np.histogram(degrees, ret,density=False)[0]/len(degrees)\n",
    "    kept_bins = (np.nonzero(dist != 0)[0])\n",
    "    ret = ret[kept_bins+1] \n",
    "    ret = np.insert(ret,0,bins[0])\n",
    "    ret[-1] = max(np.max(degrees)+ 1,bins[-1])\n",
    "\n",
    "    return ret"
   ]
  },
  {
   "cell_type": "code",
   "execution_count": 17,
   "metadata": {},
   "outputs": [
    {
     "name": "stdout",
     "output_type": "stream",
     "text": [
      "KL divergence between real network and Erdos model is 0.7996776223373706\n",
      "KL divergence between real network and Barabasi model is 0.6462695124897051\n"
     ]
    }
   ],
   "source": [
    "binwidth = 1\n",
    "\n",
    "# Get degrees of the two models\n",
    "erdos_node_degrees = np.count_nonzero(erdos_model, axis=1)\n",
    "barabasi_node_degrees = np.count_nonzero(barabasi_model, axis=1)\n",
    "\n",
    "# Compute the adjusted bins of the erdos model\n",
    "bins = np.arange(0, 99 + binwidth, binwidth)\n",
    "bins = bin_range_adjust(node_degrees,bins)\n",
    "bins = bin_range_adjust(erdos_node_degrees,bins)\n",
    "\n",
    "# Compute the KL of the erdos model\n",
    "real_dist = np.histogram(node_degrees, bins,density=False)[0]/len(node_degrees)\n",
    "erdos_dist =  np.histogram(erdos_node_degrees, bins)[0]/len(node_degrees)\n",
    "print(\"KL divergence between real network and Erdos model is {divergence}\".format(divergence = kl_divergence(real_dist, erdos_dist)))\n",
    "\n",
    "# Compute the adjusted bins of the barabasi model\n",
    "bins = np.arange(0, 99 + binwidth, binwidth)\n",
    "bins = bin_range_adjust(node_degrees,bins)\n",
    "bins = bin_range_adjust(barabasi_node_degrees,bins)\n",
    "\n",
    "# Compute the KL of the barabasi model\n",
    "real_dist = np.histogram(node_degrees, bins,density=False)[0]/len(node_degrees)\n",
    "barabasi_dist = np.histogram(barabasi_node_degrees, bins)[0]/len(node_degrees)\n",
    "print(\"KL divergence between real network and Barabasi model is {divergence}\".format(divergence = kl_divergence(real_dist, barabasi_dist)))\n",
    "\n",
    "assert np.isclose(np.sum(real_dist), 1)\n",
    "assert np.isclose(np.sum(erdos_dist), 1)\n",
    "assert np.isclose(np.sum(barabasi_dist), 1)"
   ]
  },
  {
   "cell_type": "markdown",
   "metadata": {},
   "source": [
    "### Question 8\n",
    "\n",
    "Plot the degree distribution historgrams for all three networks. Are they consistent with the KL divergence results? Explain."
   ]
  },
  {
   "cell_type": "code",
   "execution_count": 18,
   "metadata": {},
   "outputs": [
    {
     "data": {
      "text/plain": [
       "Text(0.5,1,'Degree distribution of nodes in the Barabàsi-Albert model')"
      ]
     },
     "execution_count": 18,
     "metadata": {},
     "output_type": "execute_result"
    },
    {
     "data": {
      "text/plain": [
       "<matplotlib.figure.Figure at 0x1e6e8b90c50>"
      ]
     },
     "metadata": {},
     "output_type": "display_data"
    },
    {
     "data": {
      "image/png": "[encoded data removed]",
      "text/plain": [
       "<matplotlib.figure.Figure at 0x1e6e8b90be0>"
      ]
     },
     "metadata": {},
     "output_type": "display_data"
    }
   ],
   "source": [
    "plt.figure(figsize=(10,10))\n",
    "f, axarr = plt.subplots(3, 1)\n",
    "f.set_figheight(10)\n",
    "f.set_figwidth(10)\n",
    "f.subplots_adjust(hspace=0.3)\n",
    "binwidth = 2\n",
    "binrange = np.arange(0, 99 + binwidth, binwidth)\n",
    "axarr[0].hist(node_degrees, bins=binrange,density=True)\n",
    "axarr[0].set_title(\"Degree distribution of nodes in the real network\")\n",
    "axarr[1].hist(erdos_node_degrees, bins=binrange,density=True)\n",
    "axarr[1].set_title(\"Degree distribution of nodes in the Erdös-Rényi model\")\n",
    "axarr[2].hist(barabasi_node_degrees, bins=binrange,density=True)\n",
    "axarr[2].set_title(\"Degree distribution of nodes in the Barabàsi-Albert model\")"
   ]
  },
  {
   "cell_type": "markdown",
   "metadata": {},
   "source": [
    "### Answer\n",
    "\n",
    "The resulting histograms are not consistent with the KL-divergences computed above. We can see through the histograms above that our network and the Erdös-Rényi graph are skewed around the same range of values and that that their centers are close to each others.The only major difference between the latter distributions is observed for the left distribution tails as our distribution seems to have a heavier left tail compared to the Erdös-Rényi graph. Mainwhile, the degree distribution of the graph generated by the Barabàsi-Albert model have a heavier right tail and a center which does not match with our network degree distribution.\n"
   ]
  },
  {
   "cell_type": "markdown",
   "metadata": {},
   "source": [
    "### Answer_2\n",
    "The resulting histograms are consistent with the KL-divergences computed above. In fact we can see that the Barabàsi-Albert is less skewed than the Erdös-Rényi and seems to fit better the variance of our real network degree distribution. We can also see that  Barabàsi-Albert model captures well the behavior of our real network  distribution for low degrees. However, the Barabàsi-Albert model yield a distribution with a heavy right-tail which is not observed in our original network.Meanwhile, the Erdös-Rényi model yield a skewed degree distribution around its mean, which implies that this model doesn't yield a network with nodes having degrees as extreme as our real network"
   ]
  },
  {
   "cell_type": "markdown",
   "metadata": {},
   "source": [
    "### Question 9\n",
    "\n",
    "Imagine you got equal degree distributions. Would that guarantee you got the same graph? Explain."
   ]
  },
  {
   "cell_type": "markdown",
   "metadata": {},
   "source": [
    "### Answer \n",
    "\n",
    "No, consider the following simple example:\n",
    "\n",
    "Suppose you have n nodes, with n being a multiple of 3. Connect those nodes such as to form a circle. Clearly, the degree distribution is exactly 2 for each node. \n",
    "Now consider another graph made of n nodes where they are split into n/3 small disconnected \"triangle\" components. The degree distribution is again exactly two per node but the graph exhibits drastically different structures. Therefore, we cannot conclude that two graphs that have identical degree distributions are the same. "
   ]
  },
  {
   "cell_type": "markdown",
   "metadata": {},
   "source": [
    "## Part 2\n",
    "\n",
    "**You are allowed to use any additional library here (e.g., NetworkX, PyGSP, etc.).** Be careful not to include something here and use it in part 1!"
   ]
  },
  {
   "cell_type": "code",
   "execution_count": 19,
   "metadata": {
    "collapsed": true
   },
   "outputs": [],
   "source": [
    "import networkx as nx"
   ]
  },
  {
   "cell_type": "code",
   "execution_count": 20,
   "metadata": {
    "collapsed": true
   },
   "outputs": [],
   "source": [
    "G_real=nx.from_numpy_matrix(adjacency)\n",
    "nx.write_gexf(G_real, \"test.gexf\")"
   ]
  },
  {
   "cell_type": "markdown",
   "metadata": {},
   "source": [
    "### Question 10\n",
    "\n",
    "Choose a random network model that fits you network well. Explain your choice. \n",
    "\n",
    "**Hint:** Check lecture notes for different network models and their properties. Your choice should be made based on at least one property you'd expect to be similar."
   ]
  },
  {
   "cell_type": "markdown",
   "metadata": {},
   "source": [
    "### Answer\n",
    "\n",
    "Let us begin by explaining why we believe both the Erdös-Rényi and Barabasi-Albert model are not adapted to our real network.\n",
    "\n",
    "#### Erdös-Rényi\n",
    "The Erdös-Rényi model typically shows low clustering coefficient with a degree distribution that converge in distribution to a Poisson distribution. This is not what we observe in our graph.\n",
    "\n",
    "#### Barabasi-Albert\n",
    "The Barabasi-Albert model tries to emulate a scale-free network. That is, a network whose degree distribution follows a power law which has a heavy right tail.However the degree distribution plotted above shows that our degree distribution does not exhibit such properties.Moreover  with a  Barabasi-Albert model, we expect to have a clustering coefficient close to ${ln(N)}^2/N = 0.21 $  and a few highly connected nodes which is not the case for our setup.   \n",
    "\n",
    "#### Properties of our network\n",
    "We identified the following key properties of our network:\n",
    "1. It exhibits a small-world property. That is, its diameter seems to be proportional to the logarithm of the number of nodes. In milestone 1 we computed a diameter of 3 for ~100 nodes.\n",
    "2. It has a high level of clustering. Indeed, in milestone 1 we computed a coefficient larger than 0.8\n",
    "3. Even without being too aggressive during the sparsification procedure, we clearly see that the graph is made of two clusters. The cause is immediate if we look at the labels of the vectors used to compute the similarities. Indeed, the two clusters correspond respectively to democratic and republican senators.\n",
    "\n",
    "We therefore opt for the *Watts-Strogatz* model which should typically have the small world property and a high clustering coefficient. We will also try a variant of the Watts-Strogatz where we start with two sets of nodes, corresponding to the democratic and republican clusters."
   ]
  },
  {
   "cell_type": "markdown",
   "metadata": {},
   "source": [
    "### Question 11\n",
    "\n",
    "Explain (in short) how the chosen model works."
   ]
  },
  {
   "cell_type": "markdown",
   "metadata": {},
   "source": [
    "### Answer \n",
    "The model is characterized by three parameters: \n",
    "\n",
    "* N, the number of nodes in the network\n",
    "* K, the average degree \n",
    "* p, a rewiring probability\n",
    "\n",
    "It is built through the following procedure:\n",
    "\n",
    "1. We start from a ring network where each node is connected to its K closest neighbors. K/2 at its left and K/2 at its right.\n",
    "2. We iterate over each link and rewire it with probability p. If a link is rewired we chose the new neighbor uniformly at random (we do not allows for self-loops)."
   ]
  },
  {
   "cell_type": "markdown",
   "metadata": {},
   "source": [
    "### Question 12\n",
    "\n",
    "Create a random graph from that model, such that the number of nodes is the same as in your graph."
   ]
  },
  {
   "cell_type": "markdown",
   "metadata": {},
   "source": [
    "In this part we are going to try three graph models:\n",
    "* The original watts strogatz model\n",
    "    \n",
    "* A custom watts strogattz model where we create two watts strogatz graphs separately each having the parameters of a connected component in our original network and then we join them\n",
    "\n",
    "* For the sake of comparison,we also tried to create a custom graph composed of two disjoint components where each one was generated using the Barabasi-Albert model with parameters corresponding to our original network components\n"
   ]
  },
  {
   "cell_type": "code",
   "execution_count": 21,
   "metadata": {
    "collapsed": true
   },
   "outputs": [],
   "source": [
    "def gen_watts_model(N, K, p):\n",
    "    \"\"\"\n",
    "    Create an instance from the Watts–Strogatz graph model.\n",
    "    \n",
    "    Parameters\n",
    "    ----------\n",
    "    N: int\n",
    "        The number of nodes\n",
    "    K: int\n",
    "        The mean degree\n",
    "    p: float\n",
    "        The rewiring probability\n",
    "    Returns\n",
    "    -------\n",
    "    adjacency\n",
    "        The adjacency matrix of a graph.\n",
    "    \"\"\"\n",
    "    \n",
    "    adjacency = np.zeros((N,N))\n",
    "    \n",
    "    # Build the circle lattice\n",
    "    for i in range(0,N):\n",
    "        for neighbor in range(int(-K/2), int(K/2 + 1)):\n",
    "            adjacency[i, np.mod( i + neighbor, N)] = 1\n",
    "            \n",
    "    adjacency = adjacency - np.identity(N)\n",
    "\n",
    "            \n",
    "    # Rewire each node with probability p\n",
    "    for i in range(0,N):\n",
    "        for neighbor in range(1, int(K/2 + 1)):\n",
    "            if np.random.choice([True, False], size=1, p=(p, 1-p)):\n",
    "                candidate_neighbors = [x for x in np.where(adjacency[i] == 0)[0] if x != i ]\n",
    "                new_neighbor = np.random.choice(candidate_neighbors, size=1)\n",
    "                adjacency[i, np.mod( i + neighbor, N)] = 0\n",
    "                adjacency[np.mod( i + neighbor, N), i] = 0\n",
    "                adjacency[i, new_neighbor] = 1\n",
    "                adjacency[new_neighbor, i] = 1\n",
    "\n",
    "    assert np.sum(adjacency) == N * K  \n",
    "    \n",
    "    return adjacency"
   ]
  },
  {
   "cell_type": "code",
   "execution_count": 22,
   "metadata": {
    "collapsed": true
   },
   "outputs": [],
   "source": [
    "def find_best_watts_strogattz(range_it,node_degrees,real_net_mean_degree,real_net_diameter,real_net_average_clustering,verbose=False,seed=None):\n",
    "    \"\"\"\n",
    "    Find the watts strogattz model rewiring probability maximizing the similarity between the watts strogattz generated network and \n",
    "    our original network.\n",
    "    \n",
    "    Parameters\n",
    "    ----------\n",
    "    range_it: np.array\n",
    "        list of possible rewiring probability used for the grid search\n",
    "        \n",
    "    node_degrees: np.array\n",
    "        The original network degrees\n",
    "        \n",
    "    real_net_mean_degree: int\n",
    "        The original network mean degree\n",
    "    \n",
    "    real_net_diameter: int\n",
    "        The original network diameter\n",
    "        \n",
    "    real_net_average_clustering:float\n",
    "        The original average clustering coefficient \n",
    "    \n",
    "    verbose(optional): boolean\n",
    "        Variable enabling logging\n",
    "     \n",
    "    seed(optional):\n",
    "        Random seed\n",
    "    Returns\n",
    "    -------\n",
    "    best_kl\n",
    "        Best KL divergence\n",
    "    best_param\n",
    "        best rewiring probability\n",
    "    best_avg_clustering_coeff:\n",
    "        best average clustering coefficient\n",
    "    best_net:\n",
    "        best network\n",
    "    best_diameter:\n",
    "        best network diameter\n",
    "    \"\"\"\n",
    "    \n",
    "    # Internal variables\n",
    "    binwidth = 1\n",
    "    arg_minimum = 1\n",
    "    min_dist_average_clustering_coeff = 100000\n",
    "    best_dist_diameter = 2000\n",
    "    \n",
    "    # Search for best parameters\n",
    "    best_kl  = 123333\n",
    "    best_net = None\n",
    "    best_avg_clustering_coeff = None\n",
    "    best_diameter = None\n",
    "    \n",
    "    for idx,i in enumerate(range_it):\n",
    "        # Create network\n",
    "        G = nx.connected_watts_strogatz_graph(len(node_degrees),real_net_mean_degree , i,seed=seed)\n",
    "        \n",
    "        if len(G.degree) == 0:\n",
    "            continue\n",
    "            \n",
    "        # Compute the KL-divergence  for the sampled network\n",
    "        bins = np.arange(0, 99 + binwidth, binwidth)\n",
    "        watts_node_degrees = np.array(G.degree)[:,1]\n",
    "        \n",
    "        # Compute distributions\n",
    "        bins = bin_range_adjust(node_degrees,bins)\n",
    "\n",
    "        bins = bin_range_adjust(watts_node_degrees,bins)\n",
    "        if len(bins) == 2:\n",
    "            continue\n",
    "        real_dist = np.histogram(node_degrees, bins)[0] / len(node_degrees)\n",
    "        watts_dist = np.histogram(watts_node_degrees, bins)[0] / len(watts_node_degrees)\n",
    "        kl_div = kl_divergence(real_dist, watts_dist)\n",
    "\n",
    "        # Compute sampled network properties\n",
    "        watts_network_diameter = nx.diameter(G)\n",
    "        average_cluster_coeff = nx.average_clustering(G)\n",
    "        dist = np.abs(average_cluster_coeff-real_net_average_clustering)\n",
    "        dist_diameter = np.abs(watts_network_diameter - real_net_diameter)\n",
    "\n",
    "        # Update best parameters\n",
    "        if (kl_div < best_kl) and (arg_minimum <= idx) and dist_diameter < best_dist_diameter and (dist<min_dist_average_clustering_coeff):\n",
    "            best_kl = kl_div\n",
    "            arg_minimum = idx\n",
    "            min_dist_average_clustering_coeff = dist\n",
    "            best_avg_clustering_coeff = average_cluster_coeff\n",
    "            best_net = G\n",
    "            best_diameter = watts_network_diameter\n",
    "        # Log current parameters\n",
    "        if verbose:\n",
    "            print()\n",
    "            print('Rewiring probability:',i)\n",
    "            print()\n",
    "            print('Net diameter:',watts_network_diameter)\n",
    "            print('Average clustering coeff:',average_cluster_coeff)\n",
    "            print(\"KL divergence: {}\".format(kl_div))\n",
    "            \n",
    "        best_param = range_it[arg_minimum]\n",
    "    return best_kl,best_param,best_avg_clustering_coeff,best_net,best_diameter"
   ]
  },
  {
   "cell_type": "code",
   "execution_count": 23,
   "metadata": {
    "collapsed": true
   },
   "outputs": [],
   "source": [
    "# Create a range of rewiring probabilities to try\n",
    "range_it = np.arange(0,1,0.05)\n",
    "\n",
    "# Extract our graph connected components\n",
    "all_components = [x for x in nx.connected_components(G_real)]\n",
    "sub_graphs = [G_real.subgraph(x) for x in all_components]\n",
    "\n",
    "# Compute the diameter for every component\n",
    "real_net_diameters = np.array([nx.diameter(x) for x in sub_graphs])\n",
    "\n",
    "# Compute the average clusterting coefficent for our network\n",
    "real_net_average_clustering =  nx.average_clustering(G_real) \n",
    "\n",
    "real_net_mean_degree = int(node_degrees.mean())"
   ]
  },
  {
   "cell_type": "markdown",
   "metadata": {},
   "source": [
    "### Original Watts-Strogattz model"
   ]
  },
  {
   "cell_type": "code",
   "execution_count": 24,
   "metadata": {},
   "outputs": [],
   "source": [
    "minimum_kl,best_param,best_clustering_coeff,G_watts,best_diameter \\\n",
    "    = find_best_watts_strogattz(range_it,node_degrees,real_net_mean_degree,real_net_diameters.min(),real_net_average_clustering)"
   ]
  },
  {
   "cell_type": "markdown",
   "metadata": {},
   "source": [
    "### Watts-strogattz model with two components"
   ]
  },
  {
   "cell_type": "code",
   "execution_count": 25,
   "metadata": {
    "collapsed": true
   },
   "outputs": [],
   "source": [
    "# Second graph with two components\n",
    "all_components = [i for i in nx.connected_components(G_real)]\n",
    "degrees = [np.array(x.degree)[:,1] for x in sub_graphs]\n",
    "avg_degrees = [int(x.mean()) for x in degrees]\n",
    "average_clustering_net_real = [nx.average_clustering(x) for x in sub_graphs]\n",
    "best_nets = []\n",
    "for idx,degs in enumerate(degrees):\n",
    "    minimum_kl,best_param,best_clustering_coeff,best_net,best_diameter = find_best_watts_strogattz(range_it,degs,avg_degrees[idx],real_net_diameters[idx],average_clustering_net_real[idx])\n",
    "    best_nets.append(best_net)\n",
    "\n",
    "G_2_component_watts = nx.union(*(best_nets),rename=('C1','C2'))"
   ]
  },
  {
   "cell_type": "markdown",
   "metadata": {},
   "source": [
    "### Two component Barabasi-Albert model"
   ]
  },
  {
   "cell_type": "code",
   "execution_count": 26,
   "metadata": {
    "collapsed": true
   },
   "outputs": [],
   "source": [
    "G_2_component_barabasi = [nx.from_numpy_matrix(barabasi_albert(x.number_of_nodes(),int(np.array(x.degree())[:,1].mean()),m0=np.array(x.degree())[:,1].max())) for x in sub_graphs]\n",
    "G_2_component_barabasi = nx.union(*G_2_component_barabasi,rename=['C1','C2'])"
   ]
  },
  {
   "cell_type": "markdown",
   "metadata": {},
   "source": [
    "### Question 13\n",
    "\n",
    "Check the properties you expected to be similar, and compare to your network."
   ]
  },
  {
   "cell_type": "markdown",
   "metadata": {},
   "source": [
    "### Degrees Distribution histograms"
   ]
  },
  {
   "cell_type": "code",
   "execution_count": 27,
   "metadata": {},
   "outputs": [
    {
     "data": {
      "text/plain": [
       "Text(0.5,1,'Degree distribution of nodes in the two component Barabàsi-Albert network')"
      ]
     },
     "execution_count": 27,
     "metadata": {},
     "output_type": "execute_result"
    },
    {
     "data": {
      "text/plain": [
       "<matplotlib.figure.Figure at 0x1e6ead70438>"
      ]
     },
     "metadata": {},
     "output_type": "display_data"
    },
    {
     "data": {
      "image/png": "[encoded data removed]",
      "text/plain": [
       "<matplotlib.figure.Figure at 0x1e6ead70470>"
      ]
     },
     "metadata": {},
     "output_type": "display_data"
    }
   ],
   "source": [
    "plt.figure(figsize=(10,10))\n",
    "f, axarr = plt.subplots(4, 1)\n",
    "f.set_figheight(10)\n",
    "f.set_figwidth(10)\n",
    "f.subplots_adjust(hspace=0.3)\n",
    "binwidth = 1\n",
    "binrange = np.arange(0, 99 + binwidth, binwidth)\n",
    "axarr[0].hist(node_degrees, bins=binrange,density=True)\n",
    "axarr[0].set_title(\"Degree distribution of nodes in the real network\")\n",
    "axarr[1].hist(np.array(G_watts.degree)[:,1], bins=binrange,density=True)\n",
    "axarr[1].set_title(\"Degree distribution of nodes in the Normal watts-Strogattz network\")\n",
    "axarr[2].hist(np.array(G_2_component_watts.degree)[:,1].astype(int), bins=binrange,density=True)\n",
    "axarr[2].set_title(\"Degree distribution of nodes in the two component watts-Strogattz network\")\n",
    "axarr[3].hist(np.array(G_2_component_barabasi.degree)[:,1].astype(int), bins=binrange,density=True)\n",
    "axarr[3].set_title(\"Degree distribution of nodes in the two component Barabàsi-Albert network\")"
   ]
  },
  {
   "cell_type": "code",
   "execution_count": 28,
   "metadata": {
    "collapsed": true
   },
   "outputs": [],
   "source": [
    "def log_properties(real_net_degrees,other_dist_degrees,other_graph):\n",
    "    binwidth = 2\n",
    "    binrange = np.arange(0, 99 + binwidth, binwidth)\n",
    "    binrange = bin_range_adjust(real_net_degrees,binrange)\n",
    "\n",
    "    node_degrees_ = np.array(other_graph.degree)[:,1].astype(int)\n",
    "    binrange = bin_range_adjust(node_degrees_,binrange)\n",
    "    real_dist = np.histogram(real_net_degrees, binrange)[0] / len(real_net_degrees)\n",
    "    \n",
    "    other_dist = np.histogram(node_degrees_, binrange)[0] / len(node_degrees_)\n",
    "    #print(binrange,np.unique(watts_node_degrees),np.unique(node_degrees))\n",
    "    kl_div = kl_divergence(real_dist, other_dist)\n",
    "    print('Full network KL divergence:',kl_div)\n",
    "    print('Full network average clustering coefficient:',nx.average_clustering(other_graph))\n",
    "    print('Full network diameters:',[nx.diameter(nx.subgraph(other_graph,x)) for x in nx.connected_components(other_graph)])\n",
    "    print('Full network mean degree:',node_degrees_.mean())\n",
    "    print('Full network degree std:',node_degrees_.std())\n",
    "    print('Full network min and max degrees:',node_degrees_.min(),node_degrees_.max())"
   ]
  },
  {
   "cell_type": "code",
   "execution_count": 29,
   "metadata": {},
   "outputs": [
    {
     "name": "stdout",
     "output_type": "stream",
     "text": [
      "ERDOS\n",
      "Full network KL divergence: 0.574227409510373\n",
      "Full network average clustering coefficient: 0.37163354531321646\n",
      "Full network diameters: [2]\n",
      "Full network mean degree: 33.78260869565217\n",
      "Full network degree std: 4.579790404726916\n",
      "Full network min and max degrees: 23 47\n",
      "\n",
      "Barabasi\n",
      "Full network KL divergence: 0.4044802496803868\n",
      "Full network average clustering coefficient: 0.4203332192981475\n",
      "Full network diameters: [3]\n",
      "Full network mean degree: 34.23913043478261\n",
      "Full network degree std: 8.983523039452733\n",
      "Full network min and max degrees: 6 63\n",
      "\n",
      "Normal wattz strogattz\n",
      "Full network KL divergence: 1.1654773418941429\n",
      "Full network average clustering coefficient: 0.6526466274171703\n",
      "Full network diameters: [3]\n",
      "Full network mean degree: 34.0\n",
      "Full network degree std: 1.0108111250054497\n",
      "Full network min and max degrees: 32 36\n",
      "\n",
      "2 components wattz strogattz\n",
      "Full network KL divergence: 1.1607222379525628\n",
      "Full network average clustering coefficient: 0.7444070665358408\n",
      "Full network diameters: [2, 2]\n",
      "Full network mean degree: 33.06521739130435\n",
      "Full network degree std: 3.5989260107706977\n",
      "Full network min and max degrees: 27 42\n",
      "\n",
      "2 components barabasi\n",
      "Full network KL divergence: 3.294523132169992\n",
      "Full network average clustering coefficient: 0.4727546094668487\n",
      "Full network diameters: [3, 3]\n",
      "Full network mean degree: 18.347826086956523\n",
      "Full network degree std: 5.6845228139157085\n",
      "Full network min and max degrees: 4 32\n",
      "\n",
      "original\n",
      "Full network KL divergence: 0.0\n",
      "Full network average clustering coefficient: 0.8866534260385954\n",
      "Full network diameters: [5, 3]\n",
      "Full network mean degree: 34.369565217391305\n",
      "Full network degree std: 10.263609619410694\n",
      "Full network min and max degrees: 1 45\n"
     ]
    }
   ],
   "source": [
    "G_erdos = nx.from_numpy_matrix(erdos_model)\n",
    "G_barabasi = nx.from_numpy_matrix(barabasi_model)\n",
    "print('ERDOS')\n",
    "log_properties(node_degrees,np.array(G_erdos.degree)[:,1],G_erdos)\n",
    "print()\n",
    "print('Barabasi')\n",
    "log_properties(node_degrees,np.array(G_barabasi.degree)[:,1],G_barabasi)\n",
    "print()\n",
    "print('Normal wattz strogattz')\n",
    "log_properties(node_degrees,np.array(G_watts.degree)[:,1],G_watts)\n",
    "print()\n",
    "print('2 components wattz strogattz')\n",
    "log_properties(node_degrees,np.array(G_2_component_watts.degree)[:,1],G_2_component_watts)\n",
    "print()\n",
    "print('2 components barabasi')\n",
    "log_properties(node_degrees,np.array(G_2_component_barabasi.degree)[:,1],G_2_component_barabasi)\n",
    "print()\n",
    "print('original')\n",
    "log_properties(node_degrees,node_degrees,G_real)\n"
   ]
  },
  {
   "cell_type": "markdown",
   "metadata": {},
   "source": [
    "Are the results what you expected? Explain."
   ]
  },
  {
   "cell_type": "markdown",
   "metadata": {},
   "source": [
    "The analysis above shows that the wattz-strogatts model tends to have a average clustering coefficient and a mean degree which are close to the ones in our network. The handcrafted two component  wattz-strogatts model is even better since the latter has a higher clustering coefficient compared to the original watts-strogatts model. However these models fails to yield a degree distribution which is similar to our network, this property is best modeled by the Barabasi-Albert model"
   ]
  }
 ],
 "metadata": {
  "kernelspec": {
   "display_name": "Python 3",
   "language": "python",
   "name": "python3"
  },
  "language_info": {
   "codemirror_mode": {
    "name": "ipython",
    "version": 3
   },
   "file_extension": ".py",
   "mimetype": "text/x-python",
   "name": "python",
   "nbconvert_exporter": "python",
   "pygments_lexer": "ipython3",
   "version": "3.6.3"
  }
 },
 "nbformat": 4,
 "nbformat_minor": 2
}
