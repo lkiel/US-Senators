{
 "cells": [
  {
   "cell_type": "markdown",
   "metadata": {},
   "source": [
    "# [NTDS'18] milestone 3: spectral graph theory\n",
    "[ntds'18]: https://github.com/mdeff/ntds_2018\n",
    "\n",
    "[Michaël Defferrard](http://deff.ch), [EPFL LTS2](https://lts2.epfl.ch)"
   ]
  },
  {
   "cell_type": "markdown",
   "metadata": {},
   "source": [
    "## Students\n",
    "\n",
    "* Team: `18`\n",
    "* Students: `Quentin Bacuet, Ali Alami-Idrissi, Keshav Singh, Leandro Kieliger`\n",
    "* Dataset: `US-Senators`"
   ]
  },
  {
   "cell_type": "markdown",
   "metadata": {},
   "source": [
    "## Rules\n",
    "\n",
    "* Milestones have to be completed by teams. No collaboration between teams is allowed.\n",
    "* Textual answers shall be short. Typically one to two sentences.\n",
    "* Code has to be clean.\n",
    "* You cannot import any other library than we imported.\n",
    "* When submitting, the notebook is executed and the results are stored. I.e., if you open the notebook again it should show numerical results and plots. We won't be able to execute your notebooks.\n",
    "* The notebook is re-executed from a blank state before submission. That is to be sure it is reproducible. You can click \"Kernel\" then \"Restart & Run All\" in Jupyter."
   ]
  },
  {
   "cell_type": "markdown",
   "metadata": {},
   "source": [
    "## Objective\n",
    "\n",
    "The goal of this milestone is to get familiar with the graph Laplacian and its spectral decomposition."
   ]
  },
  {
   "cell_type": "markdown",
   "metadata": {},
   "source": [
    "## 0 Load your network"
   ]
  },
  {
   "cell_type": "code",
   "execution_count": 1,
   "metadata": {
    "collapsed": true
   },
   "outputs": [],
   "source": [
    "%matplotlib inline"
   ]
  },
  {
   "cell_type": "markdown",
   "metadata": {},
   "source": [
    "If you get a `No module named 'sklearn'` error when running the below cell, install [scikit-learn](https://scikit-learn.org) with `conda install scikit-learn` (after activating the `ntds_2018` environment)."
   ]
  },
  {
   "cell_type": "code",
   "execution_count": 2,
   "metadata": {
    "collapsed": true
   },
   "outputs": [],
   "source": [
    "import numpy as np\n",
    "from scipy import sparse\n",
    "import scipy.sparse.linalg\n",
    "import matplotlib.pyplot as plt\n",
    "from sklearn.cluster import KMeans"
   ]
  },
  {
   "cell_type": "code",
   "execution_count": 3,
   "metadata": {
    "collapsed": true
   },
   "outputs": [],
   "source": [
    "ADJACENCY_PATH = '../data/adjacency_matrices/'\n",
    "ADJACENCY_COSINE_PATH = ADJACENCY_PATH + 'cosine'\n",
    "ADJACENCY_EUC_PATH = ADJACENCY_PATH + 'eucledian'\n",
    "MEMBER_ID_PATH = '../data/member_matrices/member_id_party'"
   ]
  },
  {
   "cell_type": "markdown",
   "metadata": {},
   "source": [
    "Let's denote your graph as $\\mathcal{G} = (\\mathcal{V}, \\mathcal{E}, A)$, where $\\mathcal{V}$ is the set of nodes, $\\mathcal{E}$ is the set of edges, $A \\in \\mathbb{R}^{N \\times N}$ is the (weighted) adjacency matrix, and $N = |\\mathcal{V}|$ is the number of nodes.\n",
    "\n",
    "Import the adjacency matrix $A$ that you constructed in the first milestone.\n",
    "(You're allowed to update it between milestones if you want to.)"
   ]
  },
  {
   "cell_type": "code",
   "execution_count": 4,
   "metadata": {
    "collapsed": true
   },
   "outputs": [],
   "source": [
    "adjacency =  np.load(ADJACENCY_COSINE_PATH+'.npy')\n",
    "members_parties = np.load(MEMBER_ID_PATH+'.npy')\n",
    "# Removing disconnected nodes\n",
    "node_degrees = np.count_nonzero(adjacency, axis=1)\n",
    "nodes_to_keep = np.nonzero(node_degrees)[0]\n",
    "members_parties = members_parties[nodes_to_keep]\n",
    "adjacency = adjacency[nodes_to_keep,:][:,nodes_to_keep]\n",
    "n_nodes = adjacency.shape[0]"
   ]
  },
  {
   "cell_type": "markdown",
   "metadata": {},
   "source": [
    "## 1 Graph Laplacian"
   ]
  },
  {
   "cell_type": "markdown",
   "metadata": {},
   "source": [
    "### Question 1\n",
    "\n",
    "From the (weighted) adjacency matrix $A$, compute both the combinatorial (also called unnormalized) and the normalized graph Laplacian matrices.\n",
    "\n",
    "Note: if your graph is weighted, use the weighted adjacency matrix. If not, use the binary adjacency matrix.\n",
    "\n",
    "For efficient storage and computation, store these sparse matrices in a [compressed sparse row (CSR) format](https://en.wikipedia.org/wiki/Sparse_matrix#Compressed_sparse_row_.28CSR.2C_CRS_or_Yale_format.29)."
   ]
  },
  {
   "cell_type": "code",
   "execution_count": 5,
   "metadata": {
    "collapsed": true
   },
   "outputs": [],
   "source": [
    "D = sparse.csr_matrix(np.diag(adjacency.sum(1)))\n",
    "A = sparse.csr_matrix(adjacency)\n",
    "laplacian_combinatorial = D - A\n",
    "D_half = D.power(-0.5)\n",
    "laplacian_normalized =  D_half @ laplacian_combinatorial @ D_half"
   ]
  },
  {
   "cell_type": "markdown",
   "metadata": {},
   "source": [
    "Use one of them as the graph Laplacian $L$ for the rest of the milestone.\n",
    "We however encourage you to run the code with both to get a sense of the difference!"
   ]
  },
  {
   "cell_type": "code",
   "execution_count": 6,
   "metadata": {},
   "outputs": [
    {
     "data": {
      "text/plain": [
       "(92, 92)"
      ]
     },
     "execution_count": 6,
     "metadata": {},
     "output_type": "execute_result"
    }
   ],
   "source": [
    "laplacian = laplacian_combinatorial\n",
    "laplacian.shape"
   ]
  },
  {
   "cell_type": "markdown",
   "metadata": {},
   "source": [
    "### Question 2\n",
    "\n",
    "#### Compute the eigendecomposition of the Laplacian $L = U\\Lambda U^\\top$, where the columns $u_k \\in \\mathbb{R}^N$ of $U = [u_1, \\dots, u_N] \\in \\mathbb{R}^{N \\times N}$ are the eigenvectors and the diagonal elements $\\lambda_k = \\Lambda_{kk}$ are the corresponding eigenvalues.\n",
    "\n",
    "#### Make sure that the eigenvalues are ordered, i.e., $0 = \\lambda_1 \\leq \\lambda_2 \\leq \\dots \\leq \\lambda_N$."
   ]
  },
  {
   "cell_type": "code",
   "execution_count": 7,
   "metadata": {
    "collapsed": true
   },
   "outputs": [],
   "source": [
    "eigenvalues,eigenvectors =  scipy.linalg.eigh(laplacian.todense())\n",
    "\n",
    "eigenvectors = np.real(eigenvectors)\n",
    "eigenvalues = np.real(eigenvalues)\n",
    "\n",
    "U = eigenvectors\n",
    "V = np.diag(eigenvalues)\n",
    "\n",
    "assert eigenvectors.shape == (n_nodes, n_nodes)\n",
    "assert np.allclose(laplacian.todense(), U @ V @ U.T)\n",
    "assert np.all(eigenvalues == np.sort(eigenvalues))"
   ]
  },
  {
   "cell_type": "code",
   "execution_count": 8,
   "metadata": {},
   "outputs": [
    {
     "data": {
      "text/plain": [
       "array([-4.21077253e-14,  6.04737223e-14,  6.57234495e-01,  8.87519272e-01,\n",
       "        2.63443947e+00,  3.89017791e+00,  4.59311500e+00,  6.31067867e+00,\n",
       "        1.26454566e+01,  1.36408947e+01,  1.81130489e+01,  1.95034564e+01,\n",
       "        2.12218926e+01,  2.25012666e+01,  2.25472999e+01,  2.45791406e+01,\n",
       "        2.59247520e+01,  2.66669637e+01,  2.70647330e+01,  2.84090938e+01,\n",
       "        2.92533114e+01,  2.93297356e+01,  2.96502383e+01,  3.02420235e+01,\n",
       "        3.02824855e+01,  3.07442414e+01,  3.13052708e+01,  3.23301221e+01,\n",
       "        3.24836890e+01,  3.25460722e+01,  3.30288308e+01,  3.30973946e+01,\n",
       "        3.36995635e+01,  3.38117240e+01,  3.46276215e+01,  3.47778804e+01,\n",
       "        3.50869130e+01,  3.54563560e+01,  3.54653248e+01,  3.56839383e+01,\n",
       "        3.58189342e+01,  3.58710190e+01,  3.59519006e+01,  3.60861444e+01,\n",
       "        3.61370150e+01,  3.62994971e+01,  3.64968294e+01,  3.65703635e+01,\n",
       "        3.66345273e+01,  3.68857610e+01,  3.68898323e+01,  3.69518239e+01,\n",
       "        3.70006969e+01,  3.70999308e+01,  3.71584912e+01,  3.72169600e+01,\n",
       "        3.74116495e+01,  3.74952318e+01,  3.75022183e+01,  3.75545099e+01,\n",
       "        3.80258780e+01,  3.80258780e+01,  3.80990514e+01,  3.81469910e+01,\n",
       "        3.82235262e+01,  3.83528907e+01,  3.86641100e+01,  3.87807591e+01,\n",
       "        3.89327195e+01,  3.90640564e+01,  3.91296026e+01,  3.91296026e+01,\n",
       "        3.93643927e+01,  3.97493216e+01,  4.03758947e+01,  4.05640227e+01,\n",
       "        4.07902904e+01,  4.08347086e+01,  4.13058767e+01,  4.14262764e+01,\n",
       "        4.14710495e+01,  4.16623032e+01,  4.17451251e+01,  4.26424405e+01,\n",
       "        4.27383082e+01,  4.28144811e+01,  4.28845130e+01,  4.35134891e+01,\n",
       "        4.38087524e+01,  4.39603038e+01,  4.39603038e+01,  4.39603038e+01])"
      ]
     },
     "execution_count": 8,
     "metadata": {},
     "output_type": "execute_result"
    }
   ],
   "source": [
    "eigenvalues"
   ]
  },
  {
   "cell_type": "markdown",
   "metadata": {},
   "source": [
    "#### Justify your choice of eigensolver."
   ]
  },
  {
   "cell_type": "markdown",
   "metadata": {},
   "source": [
    "We chose Scipy's eigh eigensolver for two reasons. First, it leverages the fact that by construction our matrix is symmetric and apply a faster algorithm. Second, we want to retrieve all 92 eigenvectors. In the case we would have needed fewer eigenvectors we would have used the sparse version of this function."
   ]
  },
  {
   "cell_type": "markdown",
   "metadata": {},
   "source": [
    "### Question 3\n",
    "\n",
    "#### We can write $L = S S^\\top$. What is the matrix $S$? What does $S^\\top x$, with $x \\in \\mathbb{R}^N$, compute?"
   ]
  },
  {
   "cell_type": "markdown",
   "metadata": {},
   "source": [
    "S is the incidence matrix which has a row for each vertex and column for each edge in the graph. For the undirected weighted case, we first define an arbitrary orientation and ordering for each edges before computing S. The weight of the incidence matrix are then set as follow:\n",
    "<br/>\n",
    "\n",
    " $$\n",
    " \\\\\n",
    " \\\n",
    "    S_{ij}=\\left\\{\n",
    "                \\begin{array}{ll}\n",
    "                  \\sqrt{w_{ij}} & \\text{If vertex i is the source of edge j }\\\\\n",
    "                  -\\sqrt{w_{ij}} & \\text{If vertex i is the target of edge j }\\\\\n",
    "                  0 & Otherwise\n",
    "                \\end{array}\n",
    "              \\right.\n",
    "  \\\n",
    "  \\\\\n",
    " $$\n",
    "<br/>\n",
    "Hence each column only has two elements which defines a directed  edge.\n",
    "\n",
    "$S^⊤x$ with $x \\in \\mathbb{R}^N$  computes a vector with length equal to the number of edges in our graph such that every component $k$ corresponding to edge $e_k$ is defined as: \n",
    "<br/>\n",
    "<center>  $(S^⊤x)_k = \\sqrt{W_{ij}} \\cdot (x_i - x_j) $ </center>\n",
    "\n",
    "where $x_i$ and $x_j$ are such that $e_k=(x_i, x_j)$. In words, the vector x can be seen as setting a value for each node in the graph. $S^⊤x$ computes for each edge the difference between the values stored at each of its endpoints, weighted by $\\sqrt{w_{ij}}$.\n",
    "\n",
    "If the graph is unweighted, $S^⊤x$  can be seen as the derivative of x along every edge of our graph."
   ]
  },
  {
   "cell_type": "markdown",
   "metadata": {},
   "source": [
    "We compute below S for our graph to verify that $L = S S^\\top$ "
   ]
  },
  {
   "cell_type": "code",
   "execution_count": 9,
   "metadata": {
    "collapsed": true
   },
   "outputs": [],
   "source": [
    "edges_index = np.nonzero(np.triu(adjacency))\n",
    "n_edges = edges_index[0].shape[0]"
   ]
  },
  {
   "cell_type": "code",
   "execution_count": 10,
   "metadata": {
    "collapsed": true
   },
   "outputs": [],
   "source": [
    "# Construct incidence matrix\n",
    "S = np.zeros((n_nodes,n_edges))\n",
    "for idx in range(n_edges):\n",
    "    i,j = edges_index[0][idx],edges_index[1][idx]\n",
    "    S[i,idx] =   np.sqrt(adjacency[i,j])\n",
    "    S[j,idx] = - np.sqrt(adjacency[i,j])"
   ]
  },
  {
   "cell_type": "code",
   "execution_count": 11,
   "metadata": {},
   "outputs": [
    {
     "data": {
      "text/plain": [
       "True"
      ]
     },
     "execution_count": 11,
     "metadata": {},
     "output_type": "execute_result"
    }
   ],
   "source": [
    "np.allclose(S @ S.T, (D - A).todense())"
   ]
  },
  {
   "cell_type": "markdown",
   "metadata": {},
   "source": [
    "### Question 4\n",
    "\n",
    "#### Show that $\\lambda_k = \\| S^\\top u_k \\|_2^2$, where $\\| \\cdot \\|_2^2$ denotes the squared Euclidean norm (a.k.a. squared $L^2$ norm)."
   ]
  },
  {
   "cell_type": "markdown",
   "metadata": {},
   "source": [
    "We proved in question 3 that $(S^⊤x)_k = \\sqrt{W_{ij}} \\cdot (x_i - x_j) $. Hence:\n",
    "\n",
    "$\\| S^\\top u_k \\|_2^2 = \\sum_{e=\\{i,j\\}} (\\sqrt{W_{ij}} \\cdot (u_{k_i} - u_{k_j}))^2 = \\sum_{e=\\{i,j\\}}  W_{ij} \\cdot  (u_{k_i} - u_{k_j})^2 = u_k^T \\cdot L \\cdot u_k = \\lambda_k \\cdot u_k^T \\cdot u_k = \\lambda_k$\n",
    "\n",
    "Where the third equality follows from the Graph Laplacian proposition seen in the course. The fourth equality is by definition of the eigenvector $u_k$ associated to the eigenvalue $\\lambda_k$ and the final equality due to the fact that the vector is of unit norm."
   ]
  },
  {
   "cell_type": "markdown",
   "metadata": {},
   "source": [
    "#### What does the quantity $\\| S^\\top x \\|_2^2$ tell us about $x$?"
   ]
  },
  {
   "cell_type": "markdown",
   "metadata": {},
   "source": [
    "If $\\| S^\\top x \\|_2^2$ is close to an eigenvalue, this mean that x is close to it's associated eigenvector."
   ]
  },
  {
   "cell_type": "markdown",
   "metadata": {},
   "source": [
    "### Question 5\n",
    "\n",
    "#### What is the value of $u_0$, both for the combinatorial and normalized Laplacians?"
   ]
  },
  {
   "cell_type": "code",
   "execution_count": 12,
   "metadata": {
    "collapsed": true
   },
   "outputs": [],
   "source": [
    "def get_u0(laplacian):\n",
    "    # Get the smallest eigenvalue\n",
    "    eigenvalues,eigenvectors = scipy.linalg.eigh(laplacian)\n",
    "    return eigenvectors[:,0] "
   ]
  },
  {
   "cell_type": "code",
   "execution_count": 13,
   "metadata": {
    "scrolled": true
   },
   "outputs": [
    {
     "name": "stdout",
     "output_type": "stream",
     "text": [
      "Combinatorial u0 : \n",
      " [ 0.00250729  0.00250729 -0.14584436  0.00250729 -0.14584436  0.00250729\n",
      "  0.00250729 -0.14584436 -0.14584436 -0.14584436 -0.14584436 -0.14584436\n",
      " -0.14584436  0.00250729  0.00250729  0.00250729  0.00250729 -0.14584436\n",
      "  0.00250729 -0.14584436  0.00250729  0.00250729 -0.14584436 -0.14584436\n",
      " -0.14584436  0.00250729 -0.14584436  0.00250729  0.00250729 -0.14584436\n",
      "  0.00250729  0.00250729  0.00250729  0.00250729 -0.14584436  0.00250729\n",
      "  0.00250729  0.00250729 -0.14584436 -0.14584436  0.00250729 -0.14584436\n",
      " -0.14584436 -0.14584436  0.00250729  0.00250729  0.00250729 -0.14584436\n",
      " -0.14584436 -0.14584436  0.00250729 -0.14584436  0.00250729 -0.14584436\n",
      "  0.00250729 -0.14584436  0.00250729 -0.14584436  0.00250729 -0.14584436\n",
      " -0.14584436 -0.14584436 -0.14584436 -0.14584436  0.00250729 -0.14584436\n",
      "  0.00250729 -0.14584436  0.00250729  0.00250729  0.00250729  0.00250729\n",
      " -0.14584436 -0.14584436  0.00250729 -0.14584436 -0.14584436  0.00250729\n",
      " -0.14584436  0.00250729  0.00250729  0.00250729 -0.14584436  0.00250729\n",
      " -0.14584436 -0.14584436  0.00250729 -0.14584436 -0.14584436 -0.14584436\n",
      " -0.14584436  0.00250729] \n",
      "\n",
      "Normalized u0 : \n",
      " [ 2.37496873e-04  2.42174663e-04 -1.60759413e-01  2.57184022e-04\n",
      " -1.58620589e-01  2.61573758e-04  2.69835941e-04 -1.46995693e-01\n",
      " -1.51845205e-01 -1.49463544e-01 -1.58424761e-01 -1.60032486e-01\n",
      " -1.49243499e-01  2.46424890e-04  4.27836323e-05  2.47892818e-04\n",
      "  2.62147484e-04 -1.58498034e-01  2.45470857e-04 -1.49243499e-01\n",
      "  2.67499429e-04  9.48611102e-05 -1.54393706e-01 -1.56400712e-01\n",
      " -1.31958625e-01  1.57852384e-04 -1.47464112e-01  2.62124475e-04\n",
      "  2.61238206e-04 -1.55800479e-01  4.20416116e-05  2.57187133e-04\n",
      "  2.53355997e-04  2.60390268e-04 -1.15635875e-01  2.60081032e-04\n",
      "  2.64204546e-04  1.88521161e-04 -1.56051333e-01 -1.44472280e-01\n",
      "  2.65558851e-04 -1.38397878e-01 -1.51771271e-01 -1.46939220e-01\n",
      "  2.64025918e-04  2.38669268e-04  2.47305620e-04 -1.58760327e-01\n",
      " -1.51275118e-01 -1.51451604e-01  2.43248740e-04 -1.55996454e-01\n",
      "  2.06461879e-04 -1.33881213e-01  2.66049176e-04 -9.06924718e-02\n",
      "  2.49564155e-04 -1.39577147e-01  8.42806173e-05 -1.56400712e-01\n",
      " -1.47043495e-01 -1.25052914e-01 -1.22287483e-01 -1.50936146e-01\n",
      "  2.61585847e-04 -1.51451604e-01  2.67460094e-04 -1.60759413e-01\n",
      "  2.66049176e-04  2.07103781e-04  2.48100439e-04  2.66333724e-04\n",
      " -6.21479808e-02 -1.60759413e-01  2.59038854e-04 -1.51451604e-01\n",
      " -1.25065850e-01  2.62313668e-04 -1.47777160e-01  7.27181920e-05\n",
      "  2.40168009e-04  2.71694799e-04 -1.54023701e-01  2.65189538e-04\n",
      " -1.54750263e-01 -1.54367974e-01  2.70031328e-04 -1.13044274e-01\n",
      " -1.60759413e-01 -1.49243499e-01 -1.25516234e-01  2.65367031e-04] \n",
      "\n"
     ]
    }
   ],
   "source": [
    "u0_combinatorial = get_u0(laplacian_combinatorial.todense())\n",
    "u0_normalized = get_u0(laplacian_normalized.todense())\n",
    "\n",
    "print(\"Combinatorial u0 : \\n {} \\n\".format(u0_combinatorial))\n",
    "print(\"Normalized u0 : \\n {} \\n\".format(u0_normalized))"
   ]
  },
  {
   "cell_type": "markdown",
   "metadata": {},
   "source": [
    "We see that the components of the eigenvector associated to the smallest eigen values are limited to 2, maybe 3 different numerical values. This is due to the fact that this eigenvector actually corresponds to the indicator vector of the connected components of our graph. Node that belongs to the same component take the same value in this eigenvector. "
   ]
  },
  {
   "cell_type": "code",
   "execution_count": 14,
   "metadata": {},
   "outputs": [
    {
     "name": "stdout",
     "output_type": "stream",
     "text": [
      "True\n",
      "True\n"
     ]
    }
   ],
   "source": [
    "print(np.allclose(laplacian_combinatorial @ u0_combinatorial, np.zeros(n_nodes)))\n",
    "print(np.allclose(laplacian_normalized @ u0_normalized,np.zeros(n_nodes)))"
   ]
  },
  {
   "cell_type": "markdown",
   "metadata": {},
   "source": [
    "From the course, we also know that the eigenvalue associated with $u_0$ for the combinatorial laplacian is 0. Hence the vector $1_n$ is also a possible $u_0$.\n",
    "\n",
    "$L \\cdot \\mathbb{1} = \\lambda \\cdot \\mathbb{1}$, with $\\lambda = 0$. "
   ]
  },
  {
   "cell_type": "code",
   "execution_count": 15,
   "metadata": {},
   "outputs": [
    {
     "data": {
      "text/plain": [
       "True"
      ]
     },
     "execution_count": 15,
     "metadata": {},
     "output_type": "execute_result"
    }
   ],
   "source": [
    "np.allclose(laplacian_combinatorial @ np.ones(n_nodes),np.zeros(n_nodes))"
   ]
  },
  {
   "cell_type": "markdown",
   "metadata": {},
   "source": [
    "With the same reasoning as above we get that:\n",
    "\n",
    "$L_{norm} \\cdot d^{0.5} = D^{-0.5} \\cdot L \\cdot D^{-0.5} \\cdot d^{0.5} = D^{-0.5} \\cdot L\\cdot \\mathbb{1} = \\mathbb{0} = \\lambda \\cdot \\mathbb{1}$, with $d$ the degree vector.\n",
    "\n",
    "Hence the degree vector, where each element is squared is also the first eigenvector of the normalized laplacian."
   ]
  },
  {
   "cell_type": "code",
   "execution_count": 16,
   "metadata": {},
   "outputs": [
    {
     "data": {
      "text/plain": [
       "True"
      ]
     },
     "execution_count": 16,
     "metadata": {},
     "output_type": "execute_result"
    }
   ],
   "source": [
    "np.allclose(laplacian_normalized @ (np.sqrt(adjacency.sum(1))),np.zeros(n_nodes))"
   ]
  },
  {
   "cell_type": "markdown",
   "metadata": {},
   "source": [
    "### Question 6\n",
    "\n",
    "#### Look at the spectrum of the Laplacian by plotting the eigenvalues. Comment on what you observe."
   ]
  },
  {
   "cell_type": "code",
   "execution_count": 17,
   "metadata": {},
   "outputs": [
    {
     "data": {
      "text/plain": [
       "[<matplotlib.lines.Line2D at 0x17188de4630>]"
      ]
     },
     "execution_count": 17,
     "metadata": {},
     "output_type": "execute_result"
    },
    {
     "data": {
      "image/png": "[encoded data removed]",
      "text/plain": [
       "<matplotlib.figure.Figure at 0x17187cd6898>"
      ]
     },
     "metadata": {},
     "output_type": "display_data"
    }
   ],
   "source": [
    "plt.plot(eigenvalues)"
   ]
  },
  {
   "cell_type": "markdown",
   "metadata": {},
   "source": [
    "We can see that there are very few eigenvalue close to 0. The eigenvalues are big after the second eigenvalue."
   ]
  },
  {
   "cell_type": "markdown",
   "metadata": {},
   "source": [
    "#### How many connected components are there in your graph? Answer using the eigenvalues only."
   ]
  },
  {
   "cell_type": "markdown",
   "metadata": {},
   "source": [
    "Since we know that the multiplicity of the eigenvalue 0 give us the number of connected components in our graph. We can conclude that our graph has 2 connected components"
   ]
  },
  {
   "cell_type": "markdown",
   "metadata": {},
   "source": [
    "#### Is there an upper bound on the eigenvalues, i.e., what is the largest possible eigenvalue? Answer for both the combinatorial and normalized Laplacians."
   ]
  },
  {
   "cell_type": "markdown",
   "metadata": {},
   "source": [
    "The largest possible eigenvalue for the normalized Laplacian is 2.\n",
    "\n",
    "We know that $Tr(L) =\\sum_i \\lambda_i$. Since $L$ is positive semidefinite, we can conclude that the largest possible eigenvalue for the combinatorial Laplacian is $Tr(L)$. We also know that  by construction $Tr(L) = Tr(D)$, hence the largest eigenvalue cannot exceed $Tr(D)$. "
   ]
  },
  {
   "cell_type": "markdown",
   "metadata": {},
   "source": [
    "## 3 Laplacian eigenmaps\n",
    "\n",
    "*Laplacian eigenmaps* is a method to embed a graph $\\mathcal{G}$ in a $d$-dimensional Euclidean space.\n",
    "That is, it associates a vector $z_i \\in \\mathbb{R}^d$ to every node $v_i \\in \\mathcal{V}$.\n",
    "The graph $\\mathcal{G}$ is thus embedded as $Z \\in \\mathbb{R}^{N \\times d}$."
   ]
  },
  {
   "cell_type": "markdown",
   "metadata": {},
   "source": [
    "### Question 7\n",
    "\n",
    "#### What do we use Laplacian eigenmaps for? (Or more generally, graph embeddings.)"
   ]
  },
  {
   "cell_type": "markdown",
   "metadata": {},
   "source": [
    "Laplacian eigenmaps are used to reduce the dimensionality of each datapoint such that similar points in high dimension are embedded close to each other in lower dimension."
   ]
  },
  {
   "cell_type": "markdown",
   "metadata": {},
   "source": [
    "### Question 8\n",
    "\n",
    "Embed your graph in $d=2$ dimensions with Laplacian eigenmaps.\n",
    "Try with and without re-normalizing the eigenvectors by the degrees, then keep the one your prefer.\n",
    "\n",
    "**Recompute** the eigenvectors you need with a partial eigendecomposition method for sparse matrices.\n",
    "When $k \\ll N$ eigenvectors are needed, partial eigendecompositions are much more efficient than complete eigendecompositions.\n",
    "A partial eigendecomposition scales as $\\Omega(k |\\mathcal{E}|$), while a complete eigendecomposition costs $\\mathcal{O}(N^3)$ operations."
   ]
  },
  {
   "cell_type": "code",
   "execution_count": 18,
   "metadata": {
    "collapsed": true
   },
   "outputs": [],
   "source": [
    "partial_eigenvalues, partial_eigenvectors = sparse.linalg.eigsh(laplacian_normalized, 2, which ='SM',v0=np.ones(n_nodes))"
   ]
  },
  {
   "cell_type": "code",
   "execution_count": 19,
   "metadata": {
    "collapsed": true
   },
   "outputs": [],
   "source": [
    "indexes = np.argsort(partial_eigenvalues)\n",
    "partial_eigenvalues = partial_eigenvalues[indexes]\n",
    "partial_eigenvectors = partial_eigenvectors[:,indexes]"
   ]
  },
  {
   "cell_type": "code",
   "execution_count": 20,
   "metadata": {
    "collapsed": true
   },
   "outputs": [],
   "source": [
    "embedding = partial_eigenvectors[:,:2].copy()"
   ]
  },
  {
   "cell_type": "code",
   "execution_count": 21,
   "metadata": {
    "collapsed": true
   },
   "outputs": [],
   "source": [
    "embedding = np.real(embedding)\n",
    "embedding_normalized = D_half @ embedding"
   ]
  },
  {
   "cell_type": "markdown",
   "metadata": {},
   "source": [
    "#### Plot the nodes embedded in 2D. Comment on what you see."
   ]
  },
  {
   "cell_type": "markdown",
   "metadata": {},
   "source": [
    "The embedding from the unnormalized eigenvector"
   ]
  },
  {
   "cell_type": "code",
   "execution_count": 22,
   "metadata": {},
   "outputs": [
    {
     "data": {
      "text/plain": [
       "<matplotlib.collections.PathCollection at 0x17188e89f98>"
      ]
     },
     "execution_count": 22,
     "metadata": {},
     "output_type": "execute_result"
    },
    {
     "data": {
      "image/png": "[encoded data removed]",
      "text/plain": [
       "<matplotlib.figure.Figure at 0x17188db5f98>"
      ]
     },
     "metadata": {},
     "output_type": "display_data"
    }
   ],
   "source": [
    "plt.scatter(embedding[:,0],embedding[:,1])"
   ]
  },
  {
   "cell_type": "markdown",
   "metadata": {},
   "source": [
    "The embedding from the normalized eigenvector"
   ]
  },
  {
   "cell_type": "code",
   "execution_count": 23,
   "metadata": {
    "scrolled": true
   },
   "outputs": [
    {
     "data": {
      "text/plain": [
       "<matplotlib.collections.PathCollection at 0x17188f003c8>"
      ]
     },
     "execution_count": 23,
     "metadata": {},
     "output_type": "execute_result"
    },
    {
     "data": {
      "image/png": "[encoded data removed]",
      "text/plain": [
       "<matplotlib.figure.Figure at 0x17188e77390>"
      ]
     },
     "metadata": {},
     "output_type": "display_data"
    }
   ],
   "source": [
    "plt.scatter(embedding_normalized[:,0],embedding_normalized[:,1])"
   ]
  },
  {
   "cell_type": "markdown",
   "metadata": {},
   "source": [
    "As we expected we can clearly see two groups. This strongly suggests that the voting pattern of senators highlighted the difference between members of the two parties. We keep the first unnormalized embedding as the spread between data points make the visualization more expressive."
   ]
  },
  {
   "cell_type": "markdown",
   "metadata": {},
   "source": [
    "### Question 9"
   ]
  },
  {
   "cell_type": "markdown",
   "metadata": {},
   "source": [
    "What does the embedding $Z \\in \\mathbb{R}^{N \\times d}$ preserve?"
   ]
  },
  {
   "cell_type": "markdown",
   "metadata": {},
   "source": [
    "The embedding that we obtain from the Laplacian eigenmaps is optimal with respect to locality preservation.\n",
    "\n",
    "Indeed as we are solving (without the trivial solution):\n",
    "$$arg \\; min_{y_1,...,y_N} \\sum_{i~j} W(i, j) \\cdot ||y_i - y_j||^2_2$$\n",
    "\n",
    "We will preserve closeness,as small distance between two points i and j will imply a large weight $w_{ij}$. Hence after the minimisation process, $y_i$ and $y_j$ will have to be close to each other, such that $||y_i - y_j||^2_2$ is as small as possible in order to reduce the impact of $w_{ij}$."
   ]
  },
  {
   "cell_type": "markdown",
   "metadata": {},
   "source": [
    "## 2 Spectral clustering\n",
    "\n",
    "*Spectral clustering* is a method to partition a graph into distinct clusters.\n",
    "The method associates a feature vector $z_i \\in \\mathbb{R}^d$ to every node $v_i \\in \\mathcal{V}$, then runs [$k$-means](https://en.wikipedia.org/wiki/K-means_clustering) in the embedding space $\\mathbb{R}^d$ to assign each node $v_i \\in \\mathcal{V}$ to a cluster $c_j \\in \\mathcal{C}$, where $k = |\\mathcal{C}|$ is the number of desired clusters."
   ]
  },
  {
   "cell_type": "markdown",
   "metadata": {},
   "source": [
    "### Question 10\n",
    "\n",
    "Choose $k$ and $d$. How did you get to those numbers?"
   ]
  },
  {
   "cell_type": "markdown",
   "metadata": {},
   "source": [
    "Assuming that we have 2 distinct groups of republican and democrats, we should try k = 2 , or k = 3 to account for independent candidates. We also see that there is a gap in the Laplacian spectrum after the second eigenvalue, this indicate that there are most likely two clusters.\n",
    "\n",
    "Also, we know that the multiplicity of the zero eigenvalue will give us the number of connected components. As this multiplicity is 2 in our graph, we would like to use at least 2 as feature dimensions since the two first eigenvectors will correspond to the indicator vectors of the cluster. We can try to add a few more features to see if that improves the clustering accuracy. Empirically, we will see that d=3 leads to the smaller classification error."
   ]
  },
  {
   "cell_type": "markdown",
   "metadata": {},
   "source": [
    "### Question 11\n",
    "\n",
    "1. Embed your graph in $\\mathbb{R}^d$ as $Z \\in \\mathbb{R}^{N \\times d}$.\n",
    "   Try with and without re-normalizing the eigenvectors by the degrees, then keep the one your prefer.\n",
    "1. If you want $k=2$ clusters, partition with the Fiedler vector. For $k > 2$ clusters, run $k$-means on $Z$. Don't implement $k$-means, use the `KMeans` class imported from scikit-learn."
   ]
  },
  {
   "cell_type": "markdown",
   "metadata": {},
   "source": [
    "- We start by clustering our nodes in two large clusters"
   ]
  },
  {
   "cell_type": "code",
   "execution_count": 24,
   "metadata": {
    "collapsed": true
   },
   "outputs": [],
   "source": [
    "def embed(laplacian,d):\n",
    "    eigenvalues,eigenvectors =  scipy.linalg.eigh(laplacian)\n",
    "    indexes = np.argsort(eigenvalues)\n",
    "\n",
    "    return eigenvectors[:,indexes][:,:d]\n",
    "\n",
    "embedding_spectral = embed(laplacian.todense(),3)\n",
    "embedding_spectral_normalized = D_half @ embed(laplacian.todense(),3)"
   ]
  },
  {
   "cell_type": "code",
   "execution_count": 25,
   "metadata": {},
   "outputs": [
    {
     "name": "stdout",
     "output_type": "stream",
     "text": [
      "Number of elements in right cluster (45,)\n",
      "Number of elements in left cluster (47,)\n"
     ]
    },
    {
     "data": {
      "image/png": "[encoded data removed]",
      "text/plain": [
       "<matplotlib.figure.Figure at 0x1718c3f0710>"
      ]
     },
     "metadata": {},
     "output_type": "display_data"
    }
   ],
   "source": [
    "def fielder(eigenvectors):\n",
    "    return np.sign(eigenvectors[:,0])\n",
    "\n",
    "fielder_vector = fielder(embedding_spectral) \n",
    "\n",
    "plt.scatter(fielder_vector,np.random.rand(n_nodes))\n",
    "print('Number of elements in right cluster {}'.format(fielder_vector[fielder_vector>0].shape))\n",
    "print('Number of elements in left cluster {}'.format(fielder_vector[fielder_vector<0].shape))"
   ]
  },
  {
   "cell_type": "markdown",
   "metadata": {},
   "source": [
    "- We then try to cluster the nodes in 3 clusters in order to take into account the presence of independant senators in our dataset"
   ]
  },
  {
   "cell_type": "code",
   "execution_count": 26,
   "metadata": {
    "collapsed": true
   },
   "outputs": [],
   "source": [
    "embedding_spectral = embed(laplacian.todense(),3)\n",
    "\n",
    "k = 3\n",
    "\n",
    "def gen_kmeans(k,eigenvectors,random_state = 42):\n",
    "    means = KMeans(n_clusters=k, random_state=random_state).fit(eigenvectors)\n",
    "    return means.labels_\n",
    "\n",
    "clusters = gen_kmeans(k,embedding_spectral)"
   ]
  },
  {
   "cell_type": "code",
   "execution_count": 27,
   "metadata": {},
   "outputs": [
    {
     "name": "stdout",
     "output_type": "stream",
     "text": [
      "Number of nodes in Cluster 1 is 47\n",
      "Number of nodes in Cluster 2 is 44\n",
      "Number of nodes in Cluster 3 is 1\n"
     ]
    },
    {
     "data": {
      "image/png": "[encoded data removed]",
      "text/plain": [
       "<matplotlib.figure.Figure at 0x1718c40ea20>"
      ]
     },
     "metadata": {},
     "output_type": "display_data"
    }
   ],
   "source": [
    "plt.scatter(clusters,np.random.rand(n_nodes))\n",
    "\n",
    "for i in range(k):\n",
    "    print('Number of nodes in Cluster {} is {}'.format(i+1,clusters[clusters==i].shape[0]))"
   ]
  },
  {
   "cell_type": "markdown",
   "metadata": {},
   "source": [
    "### Question 12\n",
    "\n",
    "Use the computed cluster assignment to reorder the adjacency matrix $A$.\n",
    "What do you expect? What do you observe?"
   ]
  },
  {
   "cell_type": "markdown",
   "metadata": {},
   "source": [
    "We expected to see two clear square components (a block diagonal matrix) representing the two parties."
   ]
  },
  {
   "cell_type": "code",
   "execution_count": 28,
   "metadata": {
    "collapsed": true
   },
   "outputs": [],
   "source": [
    "idx = []\n",
    "\n",
    "for i in range(k):\n",
    "    idx += (list(np.argwhere(clusters == i).ravel()))"
   ]
  },
  {
   "cell_type": "code",
   "execution_count": 29,
   "metadata": {
    "collapsed": true
   },
   "outputs": [],
   "source": [
    "adjacency_reordered = adjacency[np.ix_(idx,idx)]"
   ]
  },
  {
   "cell_type": "code",
   "execution_count": 30,
   "metadata": {},
   "outputs": [
    {
     "data": {
      "image/png": "[encoded data removed]",
      "text/plain": [
       "<matplotlib.figure.Figure at 0x1718c472898>"
      ]
     },
     "metadata": {},
     "output_type": "display_data"
    }
   ],
   "source": [
    "plt.figure(figsize=(8,8))\n",
    "plt.spy(adjacency_reordered, markersize=3)\n",
    "plt.title('adjacency matrix')\n",
    "plt.show()"
   ]
  },
  {
   "cell_type": "markdown",
   "metadata": {},
   "source": [
    "As expected, we get two clear clusters."
   ]
  },
  {
   "cell_type": "markdown",
   "metadata": {},
   "source": [
    "### Question 13\n",
    "\n",
    "If you have ground truth clusters for your dataset, compare the cluster assignment from spectral clustering to the ground truth.\n",
    "A simple quantitative measure is to compute the percentage of nodes that have been correctly categorized.\n",
    "If you don't have a ground truth, qualitatively assess the quality of the clustering.\n",
    "\n",
    "Ground truth clusters are the \"real clusters\".\n",
    "For example, the genre of musical tracks in FMA, the category of Wikipedia articles, the spammer status of individuals, etc.\n",
    "Look for the `labels` in the [dataset descriptions](https://github.com/mdeff/ntds_2018/tree/master/projects/README.md)."
   ]
  },
  {
   "cell_type": "code",
   "execution_count": 31,
   "metadata": {},
   "outputs": [
    {
     "name": "stdout",
     "output_type": "stream",
     "text": [
      "The clustering accuracy is 0.96739\n"
     ]
    }
   ],
   "source": [
    "labels = ['R','D','I']\n",
    "\n",
    "def get_assignement(kmeans_labels,original_labels,labels = ['R','D','I'],k=3):\n",
    "    \"\"\" Match between clusters returned by the kmean algorithm and the dataset original labels\n",
    "    \n",
    "    Parameters\n",
    "    ----------\n",
    "    kmeans_labels: list\n",
    "        List of nodes labeled by their corresponding predicted cluster\n",
    "    original_labels: list\n",
    "        List of nodes labeled by their original label index\n",
    "    labels: list.\n",
    "        List of original label names\n",
    "    k: int\n",
    "        Number of clusters\n",
    "    \n",
    "    Returns\n",
    "    -------\n",
    "    dict_cluster_to_party: dict\n",
    "        Dictionary where the key is a original label and the value is its corresponding kmean cluster index.\n",
    "    \"\"\"\n",
    "    # The cluster ids that got already assigned\n",
    "    assigned_cluster = []\n",
    "    # The initial cluster ids\n",
    "    clusters = list(range(k)) \n",
    "    # The indexes of the senators per party id stored as a list of list\n",
    "    index_labels = []\n",
    "    # The dict that map the cluster index to the party id\n",
    "    dict_cluster_to_party = dict()\n",
    "\n",
    "    # Get the indexes of the senators per party id\n",
    "    for label in labels:\n",
    "        index_labels.append((label,np.where(original_labels == label)[0]))\n",
    "\n",
    "    # Sort the parties by the number of senators in it\n",
    "    index_labels.sort(key = lambda x: len(x[1]),reverse= True)\n",
    "    \n",
    "    for idx in index_labels:\n",
    "        # Get the cluster assignement of the senators per party id\n",
    "        temp = kmeans_labels[idx[1]]\n",
    "        # Remove the cluster ids that were already assigned\n",
    "        temp = [x for x in temp if x not in assigned_cluster]\n",
    "        \n",
    "        if len(temp) == 0:\n",
    "            # If there is no element left just assign the party id to the remaining cluster id that are still not used.\n",
    "            cluster_chosen = clusters[0]\n",
    "            assigned_cluster.append(cluster_chosen)\n",
    "            clusters.remove(cluster_chosen)\n",
    "            dict_cluster_to_party[idx[0]] = cluster_chosen\n",
    "        else: \n",
    "            # Assign the party id to the cluster id with the most occurence of it.\n",
    "            most_commun_item = np.bincount(kmeans_labels[idx[1]]).argmax()\n",
    "            assigned_cluster.append(most_commun_item)\n",
    "            clusters.remove(most_commun_item)\n",
    "            dict_cluster_to_party[idx[0]] = most_commun_item\n",
    "        \n",
    "    return dict_cluster_to_party\n",
    "        \n",
    "def compare_truth(kmeans_labels,original_labels,dict_):\n",
    "    \"\"\" Compute the accuracy of the spectral clustering\n",
    "    \n",
    "    Parameters\n",
    "    ----------\n",
    "    kmeans_labels: list\n",
    "        List of nodes labeled by their corresponding predicted cluster\n",
    "    original_labels: list\n",
    "        List of nodes labeled by their original label index\n",
    "    dict_: dict.\n",
    "        mapping between kmean clusters and original labels\n",
    "    \n",
    "    Returns\n",
    "    -------\n",
    "    ret: float\n",
    "        clustering accuracy\n",
    "    \"\"\"\n",
    "    original_labels_copy = original_labels.copy()\n",
    "    \n",
    "    for label in labels:\n",
    "        original_labels_copy[original_labels_copy == label] = dict_[label]\n",
    "    original_labels_copy = original_labels_copy.flatten()\n",
    "    \n",
    "    ret = (original_labels_copy == kmeans_labels).sum() / kmeans_labels.shape[0]\n",
    "    return ret\n",
    "    \n",
    "dict_party_to_cluster = get_assignement(clusters,members_parties)\n",
    "dict_cluster_to_party = {v: k for k, v in dict_party_to_cluster.items()}\n",
    "print('The clustering accuracy is {:.5f}'.format(compare_truth(clusters,members_parties,dict_party_to_cluster)))"
   ]
  },
  {
   "cell_type": "markdown",
   "metadata": {},
   "source": [
    "### Question 14\n",
    "\n",
    "Plot the cluster assignment (one color per cluster) on the 2D embedding you computed above with Laplacian eigenmaps."
   ]
  },
  {
   "cell_type": "code",
   "execution_count": 32,
   "metadata": {},
   "outputs": [
    {
     "data": {
      "text/plain": [
       "<matplotlib.legend.Legend at 0x1718c4ab208>"
      ]
     },
     "execution_count": 32,
     "metadata": {},
     "output_type": "execute_result"
    },
    {
     "data": {
      "image/png": "[encoded data removed]",
      "text/plain": [
       "<matplotlib.figure.Figure at 0x1718c4abc88>"
      ]
     },
     "metadata": {},
     "output_type": "display_data"
    }
   ],
   "source": [
    "colors = ['r','b','g']\n",
    "\n",
    "for i in range(k):\n",
    "    idx = np.argwhere(clusters == i).flatten()\n",
    "    plt.scatter(embedding[idx,0],embedding[idx,1],c=colors[i])\n",
    "plt.legend([dict_cluster_to_party[i] for i in range(k)])"
   ]
  },
  {
   "cell_type": "markdown",
   "metadata": {},
   "source": [
    "Members of the democratic party almost all lie on the same line in the 2D embedding. We get a similar result for the members of the republican party. We notice also an independent senator which seems to be more closely related to republicans than democrats, again according to this embedding."
   ]
  },
  {
   "cell_type": "markdown",
   "metadata": {},
   "source": [
    "### Question 15\n",
    "\n",
    "#### Why did we use the eigenvectors of the graph Laplacian as features? Could we use other features for clustering?"
   ]
  },
  {
   "cell_type": "markdown",
   "metadata": {},
   "source": [
    "We use the eigenvectors of the Laplacian because they inherently convey information about the structure of the graph. Indeed, in our case we know that the eigenvectors associated to the eigenvalue 0 represent the indicator function of the clusters. Therefore, it makes sense to use them as features. Indeed, the eigenvectors of the graph laplacian correspond to mappings that are as smooth as possible across neighboring nodes in the graph. Because these eigenvectors are orthogonal to each other, they will provide us with the best possible assignments in terms of similarity between values across all the potential clusters (communities) in the graph. We could also have used the eigenvectors of the normalized Laplacian (normalized spectral clustering) or the adjacency matrix.\n",
    "\n",
    "It is unfortunate that in our case the clusters are so strongly defined that only 2-3 eigenvectors are sufficient to reveal them. It will be an interesting question to investigate in the later steps of this project whether we might be able to capture additional features that could show inner \"communities\" within each party (or across parties) and see if the membership of those communities is akin to that of some Senate committees or subcommittees. "
   ]
  }
 ],
 "metadata": {
  "kernelspec": {
   "display_name": "Python 3",
   "language": "python",
   "name": "python3"
  },
  "language_info": {
   "codemirror_mode": {
    "name": "ipython",
    "version": 3
   },
   "file_extension": ".py",
   "mimetype": "text/x-python",
   "name": "python",
   "nbconvert_exporter": "python",
   "pygments_lexer": "ipython3",
   "version": "3.6.3"
  }
 },
 "nbformat": 4,
 "nbformat_minor": 2
}
