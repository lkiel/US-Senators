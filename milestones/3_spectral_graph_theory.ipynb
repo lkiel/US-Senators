{
 "cells": [
  {
   "cell_type": "markdown",
   "metadata": {},
   "source": [
    "# [NTDS'18] milestone 3: spectral graph theory\n",
    "[ntds'18]: https://github.com/mdeff/ntds_2018\n",
    "\n",
    "[Michaël Defferrard](http://deff.ch), [EPFL LTS2](https://lts2.epfl.ch)"
   ]
  },
  {
   "cell_type": "markdown",
   "metadata": {},
   "source": [
    "## Students\n",
    "\n",
    "* Team: `<your team number>`\n",
    "* Students: `<the name of all students in the team>`\n",
    "* Dataset: `<the dataset you used to complete the milestone>`"
   ]
  },
  {
   "cell_type": "markdown",
   "metadata": {},
   "source": [
    "## Rules\n",
    "\n",
    "* Milestones have to be completed by teams. No collaboration between teams is allowed.\n",
    "* Textual answers shall be short. Typically one to two sentences.\n",
    "* Code has to be clean.\n",
    "* You cannot import any other library than we imported.\n",
    "* When submitting, the notebook is executed and the results are stored. I.e., if you open the notebook again it should show numerical results and plots. We won't be able to execute your notebooks.\n",
    "* The notebook is re-executed from a blank state before submission. That is to be sure it is reproducible. You can click \"Kernel\" then \"Restart & Run All\" in Jupyter."
   ]
  },
  {
   "cell_type": "markdown",
   "metadata": {},
   "source": [
    "## Objective\n",
    "\n",
    "The goal of this milestone is to get familiar with the graph Laplacian and its spectral decomposition."
   ]
  },
  {
   "cell_type": "markdown",
   "metadata": {},
   "source": [
    "## 0 Load your network"
   ]
  },
  {
   "cell_type": "code",
   "execution_count": 1,
   "metadata": {
    "collapsed": true
   },
   "outputs": [],
   "source": [
    "%matplotlib inline"
   ]
  },
  {
   "cell_type": "markdown",
   "metadata": {},
   "source": [
    "If you get a `No module named 'sklearn'` error when running the below cell, install [scikit-learn](https://scikit-learn.org) with `conda install scikit-learn` (after activating the `ntds_2018` environment)."
   ]
  },
  {
   "cell_type": "code",
   "execution_count": 2,
   "metadata": {
    "collapsed": true
   },
   "outputs": [],
   "source": [
    "import numpy as np\n",
    "from scipy import sparse\n",
    "import scipy.sparse.linalg\n",
    "import matplotlib.pyplot as plt\n",
    "from sklearn.cluster import KMeans"
   ]
  },
  {
   "cell_type": "code",
   "execution_count": 3,
   "metadata": {
    "collapsed": true
   },
   "outputs": [],
   "source": [
    "ADJACENCY_PATH = '../data/adjacency_matrices/'\n",
    "ADJACENCY_COSINE_PATH = ADJACENCY_PATH + 'cosine'\n",
    "ADJACENCY_EUC_PATH = ADJACENCY_PATH + 'eucledian'\n",
    "MEMBER_ID_PATH = '../data/member_matrices/member_id_party'"
   ]
  },
  {
   "cell_type": "markdown",
   "metadata": {},
   "source": [
    "Let's denote your graph as $\\mathcal{G} = (\\mathcal{V}, \\mathcal{E}, A)$, where $\\mathcal{V}$ is the set of nodes, $\\mathcal{E}$ is the set of edges, $A \\in \\mathbb{R}^{N \\times N}$ is the (weighted) adjacency matrix, and $N = |\\mathcal{V}|$ is the number of nodes.\n",
    "\n",
    "Import the adjacency matrix $A$ that you constructed in the first milestone.\n",
    "(You're allowed to update it between milestones if you want to.)"
   ]
  },
  {
   "cell_type": "code",
   "execution_count": 4,
   "metadata": {
    "collapsed": true
   },
   "outputs": [],
   "source": [
    "adjacency =  np.load(ADJACENCY_COSINE_PATH+'.npy')\n",
    "members_parties = np.load(MEMBER_ID_PATH+'.npy')\n",
    "# Removing disconnected nodes\n",
    "node_degrees = np.count_nonzero(adjacency, axis=1)\n",
    "nodes_to_keep = np.nonzero(node_degrees)[0]\n",
    "members_parties = members_parties[nodes_to_keep]\n",
    "adjacency = adjacency[nodes_to_keep,:][:,nodes_to_keep]\n",
    "n_nodes = adjacency.shape[0]"
   ]
  },
  {
   "cell_type": "markdown",
   "metadata": {},
   "source": [
    "## 1 Graph Laplacian"
   ]
  },
  {
   "cell_type": "markdown",
   "metadata": {},
   "source": [
    "### Question 1\n",
    "\n",
    "From the (weighted) adjacency matrix $A$, compute both the combinatorial (also called unnormalized) and the normalized graph Laplacian matrices.\n",
    "\n",
    "Note: if your graph is weighted, use the weighted adjacency matrix. If not, use the binary adjacency matrix.\n",
    "\n",
    "For efficient storage and computation, store these sparse matrices in a [compressed sparse row (CSR) format](https://en.wikipedia.org/wiki/Sparse_matrix#Compressed_sparse_row_.28CSR.2C_CRS_or_Yale_format.29)."
   ]
  },
  {
   "cell_type": "code",
   "execution_count": 5,
   "metadata": {
    "collapsed": true
   },
   "outputs": [],
   "source": [
    "D = sparse.csr_matrix(np.diag(adjacency.sum(1)))\n",
    "A = sparse.csr_matrix(adjacency)\n",
    "laplacian_combinatorial = D - A\n",
    "D_half = D.power(-0.5)\n",
    "laplacian_normalized =  D_half @ laplacian_combinatorial @ D_half"
   ]
  },
  {
   "cell_type": "markdown",
   "metadata": {},
   "source": [
    "Use one of them as the graph Laplacian $L$ for the rest of the milestone.\n",
    "We however encourage you to run the code with both to get a sense of the difference!"
   ]
  },
  {
   "cell_type": "code",
   "execution_count": 6,
   "metadata": {},
   "outputs": [
    {
     "data": {
      "text/plain": [
       "(92, 92)"
      ]
     },
     "execution_count": 6,
     "metadata": {},
     "output_type": "execute_result"
    }
   ],
   "source": [
    "laplacian = laplacian_combinatorial\n",
    "laplacian.shape"
   ]
  },
  {
   "cell_type": "markdown",
   "metadata": {},
   "source": [
    "### Question 2\n",
    "\n",
    "Compute the eigendecomposition of the Laplacian $L = U^\\top \\Lambda U$, where the columns $u_k \\in \\mathbb{R}^N$ of $U = [u_1, \\dots, u_N] \\in \\mathbb{R}^{N \\times N}$ are the eigenvectors and the diagonal elements $\\lambda_k = \\Lambda_{kk}$ are the corresponding eigenvalues.\n",
    "\n",
    "Make sure that the eigenvalues are ordered, i.e., $0 = \\lambda_1 \\leq \\lambda_2 \\leq \\dots \\leq \\lambda_N$."
   ]
  },
  {
   "cell_type": "code",
   "execution_count": 7,
   "metadata": {
    "collapsed": true
   },
   "outputs": [],
   "source": [
    "eigenvalues,eigenvectors =  scipy.linalg.eig(laplacian.todense())\n",
    "\n",
    "eigenvectors = np.real(eigenvectors)\n",
    "eigenvalues = np.real(eigenvalues)\n",
    "indexes = np.argsort(eigenvalues)\n",
    "eigenvalues = eigenvalues[indexes]\n",
    "eigenvectors = eigenvectors[:,indexes]\n",
    "assert eigenvectors.shape == (n_nodes, n_nodes)"
   ]
  },
  {
   "cell_type": "code",
   "execution_count": 8,
   "metadata": {},
   "outputs": [
    {
     "data": {
      "text/plain": [
       "array([1.04848048e-15, 8.84561510e-15, 6.57234495e-01, 8.87519272e-01,\n",
       "       2.63443947e+00, 3.89017791e+00, 4.59311500e+00, 6.31067867e+00,\n",
       "       1.26454566e+01, 1.36408947e+01, 1.81130489e+01, 1.95034564e+01,\n",
       "       2.12218926e+01, 2.25012666e+01, 2.25472999e+01, 2.45791406e+01,\n",
       "       2.59247520e+01, 2.66669637e+01, 2.70647330e+01, 2.84090938e+01,\n",
       "       2.92533114e+01, 2.93297356e+01, 2.96502383e+01, 3.02420235e+01,\n",
       "       3.02824855e+01, 3.07442414e+01, 3.13052708e+01, 3.23301221e+01,\n",
       "       3.24836890e+01, 3.25460722e+01, 3.30288308e+01, 3.30973946e+01,\n",
       "       3.36995635e+01, 3.38117240e+01, 3.46276215e+01, 3.47778804e+01,\n",
       "       3.50869130e+01, 3.54563560e+01, 3.54653248e+01, 3.56839383e+01,\n",
       "       3.58189342e+01, 3.58710190e+01, 3.59519006e+01, 3.60861444e+01,\n",
       "       3.61370150e+01, 3.62994971e+01, 3.64968294e+01, 3.65703635e+01,\n",
       "       3.66345273e+01, 3.68857610e+01, 3.68898323e+01, 3.69518239e+01,\n",
       "       3.70006969e+01, 3.70999308e+01, 3.71584912e+01, 3.72169600e+01,\n",
       "       3.74116495e+01, 3.74952318e+01, 3.75022183e+01, 3.75545099e+01,\n",
       "       3.80258780e+01, 3.80258780e+01, 3.80990514e+01, 3.81469910e+01,\n",
       "       3.82235262e+01, 3.83528907e+01, 3.86641100e+01, 3.87807591e+01,\n",
       "       3.89327195e+01, 3.90640564e+01, 3.91296026e+01, 3.91296026e+01,\n",
       "       3.93643927e+01, 3.97493216e+01, 4.03758947e+01, 4.05640227e+01,\n",
       "       4.07902904e+01, 4.08347086e+01, 4.13058767e+01, 4.14262764e+01,\n",
       "       4.14710495e+01, 4.16623032e+01, 4.17451251e+01, 4.26424405e+01,\n",
       "       4.27383082e+01, 4.28144811e+01, 4.28845130e+01, 4.35134891e+01,\n",
       "       4.38087524e+01, 4.39603038e+01, 4.39603038e+01, 4.39603038e+01])"
      ]
     },
     "execution_count": 8,
     "metadata": {},
     "output_type": "execute_result"
    }
   ],
   "source": [
    "eigenvalues"
   ]
  },
  {
   "cell_type": "code",
   "execution_count": 9,
   "metadata": {},
   "outputs": [
    {
     "data": {
      "text/plain": [
       "(92, 92)"
      ]
     },
     "execution_count": 9,
     "metadata": {},
     "output_type": "execute_result"
    }
   ],
   "source": [
    "eigenvectors.shape"
   ]
  },
  {
   "cell_type": "markdown",
   "metadata": {},
   "source": [
    "Justify your choice of eigensolver."
   ]
  },
  {
   "cell_type": "markdown",
   "metadata": {},
   "source": [
    "**Your answer here.**"
   ]
  },
  {
   "cell_type": "markdown",
   "metadata": {},
   "source": [
    "### Question 3\n",
    "\n",
    "We can write $L = S S^\\top$. What is the matrix $S$? What does $S^\\top x$, with $x \\in \\mathbb{R}^N$, compute?"
   ]
  },
  {
   "cell_type": "markdown",
   "metadata": {},
   "source": [
    "S is the incidence matrix of size number number of nodes X number of edges. For the undirected weighted case, we first choose an arbibtrary orientation and ordering for each edges. Then for the ith column of S, if the ith edge is going in the node j, we set the jth element of the row to the square root of the weight and for the out going edges we set it to the negative square root of the weight. Hence each column only has two elements (as an edge has only two nodes).\n",
    "\n",
    "$S^⊤x$ with $x \\in \\mathbb{R}^N$ will compute a vector with a lenght of the number of edges.\n",
    "\n",
    "We can get that the kth element of this vector is $(S^⊤x)_k = \\sqrt{W_{ij}} \\cdot (x_i - x_j) $ , with k such that the kth edge is $e = (v_j,v_i)$."
   ]
  },
  {
   "cell_type": "markdown",
   "metadata": {},
   "source": [
    "We also calculated S to verify that $L = S S^\\top$:"
   ]
  },
  {
   "cell_type": "code",
   "execution_count": 10,
   "metadata": {},
   "outputs": [],
   "source": [
    "edges_index = np.nonzero(np.triu(adjacency))\n",
    "n_edges = edges_index[0].shape[0]"
   ]
  },
  {
   "cell_type": "code",
   "execution_count": 11,
   "metadata": {},
   "outputs": [],
   "source": [
    "S = np.zeros((n_nodes,n_edges))"
   ]
  },
  {
   "cell_type": "code",
   "execution_count": 12,
   "metadata": {},
   "outputs": [],
   "source": [
    "for idx in range(n_edges):\n",
    "    i,j = edges_index[0][idx],edges_index[1][idx]\n",
    "    S[i,idx] =   np.sqrt(adjacency[i,j])\n",
    "    S[j,idx] = - np.sqrt(adjacency[i,j])"
   ]
  },
  {
   "cell_type": "code",
   "execution_count": 13,
   "metadata": {},
   "outputs": [
    {
     "data": {
      "text/plain": [
       "True"
      ]
     },
     "execution_count": 13,
     "metadata": {},
     "output_type": "execute_result"
    }
   ],
   "source": [
    "np.allclose(S @ S.T, (D - A).todense())"
   ]
  },
  {
   "cell_type": "markdown",
   "metadata": {},
   "source": [
    "### Question 4\n",
    "\n",
    "Show that $\\lambda_k = \\| S^\\top u_k \\|_2^2$, where $\\| \\cdot \\|_2^2$ denotes the squared Euclidean norm (a.k.a. squared $L^2$ norm)."
   ]
  },
  {
   "cell_type": "markdown",
   "metadata": {},
   "source": [
    "As $(S^⊤x)_k = \\sqrt{W_{ij}} \\cdot (x_i - x_j) $ then $\\| S^\\top u_k \\|_2^2 = \\sum_{e=\\{v_j,v_i\\}} (\\sqrt{W_{ij}} \\cdot (u_{k_i} - u_{k_j}))^2 = \\sum_{e=\\{v_j,v_i\\}}  W_{ij} \\cdot  (u_{k_i} - u_{k_j})^2 = u_k^T \\cdot L \\cdot u_k = \\lambda_k \\cdot u_k^T \\cdot u_k = \\lambda_k$"
   ]
  },
  {
   "cell_type": "markdown",
   "metadata": {},
   "source": [
    "What does the quantity $\\| S^\\top x \\|_2^2$ tell us about $x$?"
   ]
  },
  {
   "cell_type": "markdown",
   "metadata": {},
   "source": [
    "If $\\| S^\\top x \\|_2^2$ is close to an eigenvalue, this mean that x is close to it's associated eigenvector."
   ]
  },
  {
   "cell_type": "markdown",
   "metadata": {},
   "source": [
    "### Question 5\n",
    "\n",
    "What is the value of $u_0$, both for the combinatorial and normalized Laplacians?"
   ]
  },
  {
   "cell_type": "code",
   "execution_count": 14,
   "metadata": {
    "collapsed": true
   },
   "outputs": [],
   "source": [
    "def get_u0(laplacian):\n",
    "    eigenvalues,eigenvectors = scipy.linalg.eig(laplacian)\n",
    "    index = np.argmin(eigenvalues)\n",
    "    return eigenvectors[:,index]  "
   ]
  },
  {
   "cell_type": "code",
   "execution_count": 15,
   "metadata": {},
   "outputs": [
    {
     "name": "stdout",
     "output_type": "stream",
     "text": [
      "Combinatorial u0 : \n",
      " [ 0.14787731  0.14787731 -0.01842379  0.14787731 -0.01842379  0.14787731\n",
      "  0.14787731 -0.01842379 -0.01842379 -0.01842379 -0.01842379 -0.01842379\n",
      " -0.01842379  0.14787731  0.14787731  0.14787731  0.14787731 -0.01842379\n",
      "  0.14787731 -0.01842379  0.14787731  0.14787731 -0.01842379 -0.01842379\n",
      " -0.01842379  0.14787731 -0.01842379  0.14787731  0.14787731 -0.01842379\n",
      "  0.14787731  0.14787731  0.14787731  0.14787731 -0.01842379  0.14787731\n",
      "  0.14787731  0.14787731 -0.01842379 -0.01842379  0.14787731 -0.01842379\n",
      " -0.01842379 -0.01842379  0.14787731  0.14787731  0.14787731 -0.01842379\n",
      " -0.01842379 -0.01842379  0.14787731 -0.01842379  0.14787731 -0.01842379\n",
      "  0.14787731 -0.01842379  0.14787731 -0.01842379  0.14787731 -0.01842379\n",
      " -0.01842379 -0.01842379 -0.01842379 -0.01842379  0.14787731 -0.01842379\n",
      "  0.14787731 -0.01842379  0.14787731  0.14787731  0.14787731  0.14787731\n",
      " -0.01842379 -0.01842379  0.14787731 -0.01842379 -0.01842379  0.14787731\n",
      " -0.01842379  0.14787731  0.14787731  0.14787731 -0.01842379  0.14787731\n",
      " -0.01842379 -0.01842379  0.14787731 -0.01842379 -0.01842379 -0.01842379\n",
      " -0.01842379  0.14787731] \n",
      "\n",
      "Normalized u0 : \n",
      " [-1.48333270e-01 -1.51254874e-01 -5.92622694e-17 -1.60629260e-01\n",
      " -2.72907080e-17 -1.63370955e-01 -1.68531261e-01 -1.99459661e-17\n",
      " -2.10922300e-17 -2.07763512e-17 -2.19751591e-17 -2.22479268e-17\n",
      " -2.06633148e-17 -1.53909436e-01 -2.67213459e-02 -1.54826258e-01\n",
      " -1.63729286e-01 -2.19404622e-17 -1.53313576e-01 -2.06633155e-17\n",
      " -1.67071948e-01 -5.92473429e-02 -2.14135134e-17 -2.17457285e-17\n",
      " -1.84303784e-17 -9.85897625e-02 -2.06553666e-17 -1.63714916e-01\n",
      " -1.63161379e-01 -2.15801483e-17 -2.62579024e-02 -1.60631203e-01\n",
      " -1.58238393e-01 -1.62631783e-01 -1.69020257e-17 -1.62438644e-01\n",
      " -1.65014064e-01 -1.17744541e-01 -2.15725176e-17 -2.00084751e-17\n",
      " -1.65859922e-01 -1.92376586e-17 -2.11924334e-17 -2.03752148e-17\n",
      " -1.64902498e-01 -1.49065512e-01 -1.54459513e-01 -2.19858416e-17\n",
      " -2.08726511e-17 -2.08980864e-17 -1.51925710e-01 -2.15356071e-17\n",
      " -1.28949764e-01 -1.88249512e-17 -1.66166163e-01 -1.37356284e-17\n",
      " -1.55870124e-01 -1.93274299e-17 -5.26390912e-02 -2.17457285e-17\n",
      " -2.03319163e-17 -1.78320947e-17 -1.74745864e-17 -2.08193283e-17\n",
      " -1.63378505e-01 -2.08980864e-17 -1.67047380e-01 -2.23131803e-17\n",
      " -1.66166163e-01 -1.29350676e-01 -1.54955932e-01 -1.66343884e-01\n",
      " -8.59939925e-18 -2.23131803e-17 -1.61787731e-01 -2.08980864e-17\n",
      " -1.77713276e-17 -1.63833079e-01 -2.04971296e-17 -4.54175547e-02\n",
      " -1.50001580e-01 -1.69692247e-01 -2.12351068e-17 -1.65629260e-01\n",
      " -2.14468878e-17 -2.14565303e-17 -1.68653294e-01 -1.61320958e-17\n",
      " -2.23131803e-17 -2.06633155e-17 -1.78495657e-17 -1.65740117e-01] \n",
      "\n"
     ]
    }
   ],
   "source": [
    "u0_combinatorial = get_u0(laplacian_combinatorial.todense())\n",
    "u0_normalized = get_u0(laplacian_normalized.todense())\n",
    "\n",
    "print(\"Combinatorial u0 : \\n {} \\n\".format(u0_combinatorial))\n",
    "print(\"Normalized u0 : \\n {} \\n\".format(u0_normalized))"
   ]
  },
  {
   "cell_type": "markdown",
   "metadata": {},
   "source": [
    "From the course, we also know that the eigenvalues of the combinatorial laplacian is 0. Hence the vector with only 1 is also a possible $u_0$."
   ]
  },
  {
   "cell_type": "code",
   "execution_count": 16,
   "metadata": {},
   "outputs": [
    {
     "data": {
      "text/plain": [
       "True"
      ]
     },
     "execution_count": 16,
     "metadata": {},
     "output_type": "execute_result"
    }
   ],
   "source": [
    "np.allclose(laplacian_combinatorial @ np.ones(n_nodes),np.zeros(n_nodes))"
   ]
  },
  {
   "cell_type": "markdown",
   "metadata": {},
   "source": [
    "With the same reasoning as above as: $L \\cdot \\mathbb{1} = \\lambda \\cdot \\mathbb{1}$, with $\\lambda = 0$. \n",
    "\n",
    "We have that:\n",
    "\n",
    "$L_{norm} \\cdot d^{0.5} = D^{-0.5} \\cdot L \\cdot D^{-0.5} \\cdot d^{0.5} = D^{-0.5} \\cdot L\\cdot \\mathbb{1} = \\mathbb{0} = \\lambda \\cdot \\mathbb{1}$, with $d$ the degree vector.\n",
    "\n",
    "Hence the degree vector, where each element is squared is also the first eigenvector of the normalized laplacian."
   ]
  },
  {
   "cell_type": "code",
   "execution_count": 17,
   "metadata": {},
   "outputs": [
    {
     "data": {
      "text/plain": [
       "True"
      ]
     },
     "execution_count": 17,
     "metadata": {},
     "output_type": "execute_result"
    }
   ],
   "source": [
    "np.allclose(laplacian_normalized @ (np.sqrt(adjacency.sum(1))),np.zeros(n_nodes))"
   ]
  },
  {
   "cell_type": "markdown",
   "metadata": {},
   "source": [
    "### Question 6\n",
    "\n",
    "Look at the spectrum of the Laplacian by plotting the eigenvalues.\n",
    "Comment on what you observe."
   ]
  },
  {
   "cell_type": "code",
   "execution_count": 18,
   "metadata": {},
   "outputs": [
    {
     "data": {
      "text/plain": [
       "[<matplotlib.lines.Line2D at 0x201d0a347f0>]"
      ]
     },
     "execution_count": 18,
     "metadata": {},
     "output_type": "execute_result"
    },
    {
     "data": {
      "image/png": "[encoded data removed]",
      "text/plain": [
       "<matplotlib.figure.Figure at 0x201d09117b8>"
      ]
     },
     "metadata": {},
     "output_type": "display_data"
    }
   ],
   "source": [
    "plt.plot(eigenvalues)"
   ]
  },
  {
   "cell_type": "markdown",
   "metadata": {},
   "source": [
    "**Your answer here.**"
   ]
  },
  {
   "cell_type": "markdown",
   "metadata": {},
   "source": [
    "How many connected components are there in your graph? Answer using the eigenvalues only."
   ]
  },
  {
   "cell_type": "markdown",
   "metadata": {},
   "source": [
    "As seen above $L \\cdot \\mathbb{1} = \\lambda \\cdot \\mathbb{1} = \\mathbb{0}$. Hence the null space has dimension 1. So we can conclude as the null space dimension is equal to the number of connected components that there is only 1 connected component in our graph."
   ]
  },
  {
   "cell_type": "markdown",
   "metadata": {},
   "source": [
    "Is there an upper bound on the eigenvalues, i.e., what is the largest possible eigenvalue? Answer for both the combinatorial and normalized Laplacians."
   ]
  },
  {
   "cell_type": "markdown",
   "metadata": {},
   "source": [
    "The largest possible eigenvalue for the normalized Laplacian is 2.\n",
    "\n",
    "The largest possible eigenvalue for the combinatorial Laplacian is the trace of D (sum of all weights). Indeed as $Tr(L) = \\sum_i \\lambda_i$ and that by construction $Tr(L) = Tr(D)$, the largest eigenvalue cannot exceed this."
   ]
  },
  {
   "cell_type": "markdown",
   "metadata": {},
   "source": [
    "## 3 Laplacian eigenmaps\n",
    "\n",
    "*Laplacian eigenmaps* is a method to embed a graph $\\mathcal{G}$ in a $d$-dimensional Euclidean space.\n",
    "That is, it associates a vector $z_i \\in \\mathbb{R}^d$ to every node $v_i \\in \\mathcal{V}$.\n",
    "The graph $\\mathcal{G}$ is thus embedded as $Z \\in \\mathbb{R}^{N \\times d}$."
   ]
  },
  {
   "cell_type": "markdown",
   "metadata": {},
   "source": [
    "### Question 7\n",
    "\n",
    "What do we use Laplacian eigenmaps for? (Or more generally, graph embeddings.)"
   ]
  },
  {
   "cell_type": "markdown",
   "metadata": {},
   "source": [
    "Laplacian eigenmaps are used to reduce the dimensionality of each datapoint such that similar points in high dimension are embedded close to each other in lower dimension."
   ]
  },
  {
   "cell_type": "markdown",
   "metadata": {},
   "source": [
    "### Question 8\n",
    "\n",
    "Embed your graph in $d=2$ dimensions with Laplacian eigenmaps.\n",
    "Try with and without re-normalizing the eigenvectors by the degrees, then keep the one your prefer.\n",
    "\n",
    "**Recompute** the eigenvectors you need with a partial eigendecomposition method for sparse matrices.\n",
    "When $k \\ll N$ eigenvectors are needed, partial eigendecompositions are much more efficient than complete eigendecompositions.\n",
    "A partial eigendecomposition scales as $\\Omega(k |\\mathcal{E}|$), while a complete eigendecomposition costs $\\mathcal{O}(N^3)$ operations."
   ]
  },
  {
   "cell_type": "code",
   "execution_count": 19,
   "metadata": {},
   "outputs": [],
   "source": [
    "normalized_laplacian = D_half @ laplacian @ D_half"
   ]
  },
  {
   "cell_type": "code",
   "execution_count": 20,
   "metadata": {},
   "outputs": [],
   "source": [
    "partial_eigenvalues,partial_eigenvectors = sparse.linalg.eigs(normalized_laplacian,3,which ='SM',v0=np.ones(n_nodes))"
   ]
  },
  {
   "cell_type": "code",
   "execution_count": 21,
   "metadata": {
    "collapsed": true
   },
   "outputs": [],
   "source": [
    "indexes = np.argsort(partial_eigenvalues)\n",
    "partial_eigenvalues = partial_eigenvalues[indexes]\n",
    "partial_eigenvectors = partial_eigenvectors[:,indexes]"
   ]
  },
  {
   "cell_type": "code",
   "execution_count": 22,
   "metadata": {},
   "outputs": [],
   "source": [
    "embedding = partial_eigenvectors[:,1:3].copy()"
   ]
  },
  {
   "cell_type": "code",
   "execution_count": 23,
   "metadata": {},
   "outputs": [],
   "source": [
    "embedding = np.real(embedding)\n",
    "embedding_degree = np.reshape(adjacency.sum(1),(n_nodes,1)) * embedding"
   ]
  },
  {
   "cell_type": "markdown",
   "metadata": {},
   "source": [
    "Plot the nodes embedded in 2D. Comment on what you see."
   ]
  },
  {
   "cell_type": "markdown",
   "metadata": {},
   "source": [
    "The embedding from the eigenvector"
   ]
  },
  {
   "cell_type": "code",
   "execution_count": 24,
   "metadata": {},
   "outputs": [
    {
     "data": {
      "text/plain": [
       "<matplotlib.collections.PathCollection at 0x201d47d5160>"
      ]
     },
     "execution_count": 24,
     "metadata": {},
     "output_type": "execute_result"
    },
    {
     "data": {
      "image/png": "[encoded data removed]",
      "text/plain": [
       "<matplotlib.figure.Figure at 0x201d0944978>"
      ]
     },
     "metadata": {},
     "output_type": "display_data"
    }
   ],
   "source": [
    "plt.scatter(embedding[:,0],embedding[:,1])"
   ]
  },
  {
   "cell_type": "markdown",
   "metadata": {},
   "source": [
    "The embedding scales by the degree"
   ]
  },
  {
   "cell_type": "code",
   "execution_count": 25,
   "metadata": {},
   "outputs": [
    {
     "data": {
      "text/plain": [
       "<matplotlib.collections.PathCollection at 0x201d483f630>"
      ]
     },
     "execution_count": 25,
     "metadata": {},
     "output_type": "execute_result"
    },
    {
     "data": {
      "image/png": "[encoded data removed]",
      "text/plain": [
       "<matplotlib.figure.Figure at 0x201d47ab6a0>"
      ]
     },
     "metadata": {},
     "output_type": "display_data"
    }
   ],
   "source": [
    "plt.scatter(embedding_degree[:,0],embedding_degree[:,1])"
   ]
  },
  {
   "cell_type": "markdown",
   "metadata": {},
   "source": [
    "As we expected we can clearly see two clusters and some outliers. This depict the fact that there are two main parties (Republicans and Democrats) and some independant parties."
   ]
  },
  {
   "cell_type": "markdown",
   "metadata": {},
   "source": [
    "### Question 9"
   ]
  },
  {
   "cell_type": "markdown",
   "metadata": {},
   "source": [
    "What does the embedding $Z \\in \\mathbb{R}^{N \\times d}$ preserve?"
   ]
  },
  {
   "cell_type": "markdown",
   "metadata": {},
   "source": [
    "The embedding that we obtain from the Laplacian eigenmaps is optimal, in the sense that it is the best locality-preserving mapping.\n",
    "\n",
    "Indeed as we are minimizing (without the trivial solution):\n",
    "$$arg \\; min_{y_1,...,y_N} \\sum_{i~j} W(i, j) \\cdot ||y_i - y_j||^2_2$$\n",
    "\n",
    "We will preserve closness,as small distance between two points i and j will imply big weight $w_{ij}$. Hence in the minimisation process $y_i$ and $y_j$ will have to be close to each other, such that $||y_i - y_j||^2_2$ is small to reduce the impact of $w_{ij}$."
   ]
  },
  {
   "cell_type": "markdown",
   "metadata": {},
   "source": [
    "## 2 Spectral clustering\n",
    "\n",
    "*Spectral clustering* is a method to partition a graph into distinct clusters.\n",
    "The method associates a feature vector $z_i \\in \\mathbb{R}^d$ to every node $v_i \\in \\mathcal{V}$, then runs [$k$-means](https://en.wikipedia.org/wiki/K-means_clustering) in the embedding space $\\mathbb{R}^d$ to assign each node $v_i \\in \\mathcal{V}$ to a cluster $c_j \\in \\mathcal{C}$, where $k = |\\mathcal{C}|$ is the number of desired clusters."
   ]
  },
  {
   "cell_type": "markdown",
   "metadata": {},
   "source": [
    "### Question 10\n",
    "\n",
    "Choose $k$ and $d$. How did you get to those numbers?"
   ]
  },
  {
   "cell_type": "markdown",
   "metadata": {},
   "source": [
    "assuming that we have 2 distinct groups of republican and democrats, we should try k = 2 , or k = 3 to account for independent candidates. "
   ]
  },
  {
   "cell_type": "markdown",
   "metadata": {},
   "source": [
    "### Question 11\n",
    "\n",
    "1. Embed your graph in $\\mathbb{R}^d$ as $Z \\in \\mathbb{R}^{N \\times d}$.\n",
    "   Try with and without re-normalizing the eigenvectors by the degrees, then keep the one your prefer.\n",
    "1. If you want $k=2$ clusters, partition with the Fiedler vector. For $k > 2$ clusters, run $k$-means on $Z$. Don't implement $k$-means, use the `KMeans` class imported from scikit-learn."
   ]
  },
  {
   "cell_type": "code",
   "execution_count": 26,
   "metadata": {
    "collapsed": true
   },
   "outputs": [],
   "source": [
    "# Your code here.\n",
    "def gen_kmeans(n_clusters,n_features,data,random_state):\n",
    "    data = data[:,-1*n_features:]\n",
    "    means = KMeans(n_clusters=n_clusters, random_state=0).fit(data)\n",
    "    return means.labels_\n"
   ]
  },
  {
   "cell_type": "markdown",
   "metadata": {},
   "source": [
    "### Question 12\n",
    "\n",
    "Use the computed cluster assignment to reorder the adjacency matrix $A$.\n",
    "What do you expect? What do you observe?"
   ]
  },
  {
   "cell_type": "code",
   "execution_count": 27,
   "metadata": {
    "collapsed": true
   },
   "outputs": [],
   "source": [
    "# Your code here.\n"
   ]
  },
  {
   "cell_type": "markdown",
   "metadata": {},
   "source": [
    "**Your answer here.**"
   ]
  },
  {
   "cell_type": "markdown",
   "metadata": {},
   "source": [
    "### Question 13\n",
    "\n",
    "If you have ground truth clusters for your dataset, compare the cluster assignment from spectral clustering to the ground truth.\n",
    "A simple quantitative measure is to compute the percentage of nodes that have been correctly categorized.\n",
    "If you don't have a ground truth, qualitatively assess the quality of the clustering.\n",
    "\n",
    "Ground truth clusters are the \"real clusters\".\n",
    "For example, the genre of musical tracks in FMA, the category of Wikipedia articles, the spammer status of individuals, etc.\n",
    "Look for the `labels` in the [dataset descriptions](https://github.com/mdeff/ntds_2018/tree/master/projects/README.md)."
   ]
  },
  {
   "cell_type": "code",
   "execution_count": 28,
   "metadata": {
    "collapsed": true
   },
   "outputs": [],
   "source": [
    "# Your code here.\n",
    "def compare_truth(kmeans_labels,original_labels):\n",
    "    #return accuracy, assign the first R to first label{0,1,2} in kmeans, find next unassigned value and assign it to 'D' \n",
    "    #rest to 'I'\n",
    "    first_R_pos = np.where(original_labels == 'R')[0][0]\n",
    "    first_D_pos = np.where(original_labels == 'D')[0][0]\n",
    "    label_at_first_R_pos = kmeans_labels[first_R_pos]\n",
    "    \n",
    "    kmeans_l_copy = np.copy(kmeans_labels).astype(str)\n",
    "    kmeans_l_copy[kmeans_labels == label_at_first_R_pos] = 'R'\n",
    "    \n",
    "    remaining = np.where(kmeans_l_copy[kmeans_l_copy != 'R' ])[0]\n",
    "    label_at_first_D_pos = label_at_first_R_pos\n",
    "    for i in remaining:\n",
    "        if(not(kmeans_labels[i] == label_at_first_R_pos) and (original_labels[i] == 'D' )):\n",
    "            label_at_first_D_pos = kmeans_labels[i]\n",
    "            \n",
    "    kmeans_l_copy[kmeans_labels == label_at_first_D_pos] = 'D'\n",
    "    kmeans_l_copy[(kmeans_labels != label_at_first_R_pos) & (kmeans_labels != label_at_first_D_pos)] = 'I'\n",
    "    return np.sum(kmeans_l_copy == original_labels.flatten())/len(kmeans_labels)\n",
    "    "
   ]
  },
  {
   "cell_type": "code",
   "execution_count": 29,
   "metadata": {},
   "outputs": [
    {
     "name": "stdout",
     "output_type": "stream",
     "text": [
      "computing kmeans with eigenvectors,best accuracy 0.5 for 0 eigenvectors\n",
      "computing kmeans with original features,accuracy 0.8695652173913043 and best seed 483556\n",
      "(1, 'R') (1, 'R') (2, 'D') (1, 'R') (2, 'D') (1, 'R') (1, 'R') (2, 'D') (2, 'D') (2, 'D') (2, 'D') (2, 'D') (2, 'D') (1, 'R') (0, 'R') (1, 'R') (1, 'R') (2, 'D') (1, 'R') (2, 'D') (1, 'R') (0, 'R') (2, 'D') (2, 'D') (2, 'D') (0, 'R') (2, 'D') (1, 'R') (1, 'R') (2, 'D') (0, 'R') (1, 'R') (1, 'R') (1, 'R') (0, 'D') (1, 'R') (1, 'R') (1, 'R') (2, 'D') (2, 'D') (1, 'R') (2, 'D') (2, 'D') (2, 'D') (1, 'R') (1, 'R') (1, 'R') (2, 'D') (2, 'I') (2, 'D') (1, 'R') (2, 'D') (1, 'R') (2, 'D') (1, 'R') (0, 'D') (1, 'R') (2, 'D') (0, 'R') (2, 'D') (2, 'D') (0, 'D') (2, 'D') (2, 'D') (1, 'R') (2, 'D') (1, 'R') (2, 'D') (1, 'R') (1, 'R') (1, 'R') (1, 'R') (0, 'I') (2, 'D') (1, 'R') (2, 'D') (2, 'D') (1, 'R') (2, 'D') (0, 'R') (1, 'R') (1, 'R') (2, 'D') (1, 'R') (2, 'D') (2, 'D') (1, 'R') (0, 'D') (2, 'D') (2, 'D') (0, 'D') (1, 'R')\n"
     ]
    }
   ],
   "source": [
    "\n",
    "\n",
    "def get_best_seed(n_clusters,n_features,data,original_labels,n_tries):\n",
    "    accs = []\n",
    "    tries = np.random.randint(low=1, high=1e6, size=n_tries)\n",
    "    for i  in tries:\n",
    "        accs.append(compare_truth(gen_kmeans(n_clusters,n_features,data,i),original_labels))\n",
    "    \n",
    "    accs_ary = np.array(accs)\n",
    "    index_max = np.argmax(accs_ary)\n",
    "    return accs_ary[index_max],tries[index_max]\n",
    "        \n",
    "    \n",
    "accuracies =[]\n",
    "for i in range(1,92):\n",
    "    accuracies.append(compare_truth(gen_kmeans(3,i,eigenvectors,0),members_parties))\n",
    "accs_array = np.array(accuracies)\n",
    "index_max = np.argmax(accs_array)\n",
    "print('computing kmeans with eigenvectors,best accuracy {} for {} eigenvectors'.format(np.max(accs_array),index_max))\n",
    "best_acc,best_seed = get_best_seed(3,93,adjacency,members_parties,100)\n",
    "print('computing kmeans with original features,accuracy {} and best seed {}'.format(best_acc,best_seed))\n",
    "print(*zip(gen_kmeans(3,93,adjacency,best_seed),members_parties.flatten()))"
   ]
  },
  {
   "cell_type": "markdown",
   "metadata": {},
   "source": [
    "### Question 14\n",
    "\n",
    "Plot the cluster assignment (one color per cluster) on the 2D embedding you computed above with Laplacian eigenmaps."
   ]
  },
  {
   "cell_type": "code",
   "execution_count": 30,
   "metadata": {
    "collapsed": true
   },
   "outputs": [],
   "source": [
    "# Your code here."
   ]
  },
  {
   "cell_type": "markdown",
   "metadata": {},
   "source": [
    "### Question 15\n",
    "\n",
    "Why did we use the eigenvectors of the graph Laplacian as features? Could we use other features for clustering?"
   ]
  },
  {
   "cell_type": "markdown",
   "metadata": {},
   "source": [
    "**Your answer here.**"
   ]
  }
 ],
 "metadata": {
  "kernelspec": {
   "display_name": "Python 3",
   "language": "python",
   "name": "python3"
  },
  "language_info": {
   "codemirror_mode": {
    "name": "ipython",
    "version": 3
   },
   "file_extension": ".py",
   "mimetype": "text/x-python",
   "name": "python",
   "nbconvert_exporter": "python",
   "pygments_lexer": "ipython3",
   "version": "3.6.3"
  }
 },
 "nbformat": 4,
 "nbformat_minor": 2
}
