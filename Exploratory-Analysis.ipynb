{
 "cells": [
  {
   "cell_type": "code",
   "execution_count": null,
   "metadata": {
    "collapsed": true
   },
   "outputs": [],
   "source": [
    "import numpy as np\n",
    "import pandas as pd\n",
    "import matplotlib.pyplot as plt\n",
    "import os\n",
    "import datetime\n",
    "import seaborn as sns\n",
    "import zipfile"
   ]
  },
  {
   "cell_type": "code",
   "execution_count": null,
   "metadata": {
    "collapsed": true
   },
   "outputs": [],
   "source": [
    "plt.rcParams[\"axes.labelsize\"] = 14\n",
    "plt.rcParams[\"axes.titlesize\"] = 18"
   ]
  },
  {
   "cell_type": "markdown",
   "metadata": {},
   "source": [
    "# Loading dataframes"
   ]
  },
  {
   "cell_type": "code",
   "execution_count": null,
   "metadata": {},
   "outputs": [],
   "source": [
    "VOTE_DATA_PATH = 'data/votes/'\n",
    "Z_FILE = zipfile.ZipFile(VOTE_DATA_PATH+'votes.zip')\n",
    "\n",
    "vote_data_files = [x.filename for x in Z_FILE.infolist() if x.filename.startswith('votes_')]"
   ]
  },
  {
   "cell_type": "code",
   "execution_count": null,
   "metadata": {
    "collapsed": true
   },
   "outputs": [],
   "source": [
    "def interpret_position(positions):\n",
    "    r = positions.copy()\n",
    "    r = r.apply(lambda x : 1 if x == \"Yes\" else ( -1 if x == \"No\" else 0 ))\n",
    "    \n",
    "    return r"
   ]
  },
  {
   "cell_type": "code",
   "execution_count": null,
   "metadata": {
    "collapsed": true
   },
   "outputs": [],
   "source": [
    "USEFUL_COLUMNS = ['id','bill.number','congress','member_id','question','position', 'timestamp']\n",
    "\n",
    "def process_vote_file(file_path):\n",
    "    print(\"Processing vote data for {file}\".format(file=file_path))\n",
    "    ifile = Z_FILE.open(file_path)\n",
    "    \n",
    "    # Read data\n",
    "    df = pd.read_csv(ifile)\n",
    "\n",
    "    # We drop entries without bill number as they lead to invalid bill IDs\n",
    "    df = df[df['bill.number'].notna()]\n",
    "    \n",
    "    # We drop entries without roll call value\n",
    "    df = df[df['roll_call'].notna()]\n",
    "    \n",
    "    # As there can be several votes per bill we need to build a unique ID\n",
    "    df['id'] = df['bill.bill_id'].map(str) + \"-\" + df['roll_call'].map(str)\n",
    "\n",
    "    # Some bill IDs and roll call numbers are poorly filled, leading to duplicates\n",
    "    df = df.drop_duplicates('id')\n",
    "    \n",
    "    # Build timestamps\n",
    "    df['timestamp'] = pd.to_datetime(df.date.map(str) + \" \" + df.time.map(str))\n",
    "    \n",
    "    # Keep only useful columns\n",
    "    df = df[USEFUL_COLUMNS]\n",
    "    \n",
    "    # Convert position to numeric\n",
    "    df['position'] = interpret_position(df['position'])\n",
    "    \n",
    "    return df"
   ]
  },
  {
   "cell_type": "code",
   "execution_count": null,
   "metadata": {
    "collapsed": true
   },
   "outputs": [],
   "source": [
    "NOMINATION_VOTE = \"On the Nomination\"\n",
    "MOTION_VOTE = \"On the Motion\"\n",
    "CLOTURE_MOTION_VOTE = \"On the Cloture Motion\"\n",
    "BILL_PASSAGE = \"On Passage of the Bill\"\n",
    "\n",
    "def build_vote_matrix(questions, data):\n",
    "    \"\"\"\n",
    "    Given a list of questions, build a vote matrix.\n",
    "    Index are senators IDs, columns are vote IDs and values are the respective positions\n",
    "    of the senators with respect to the question (Yes, No, blank or NaN if the senator\n",
    "    did not take part in the vote)\n",
    "    \n",
    "    Data should contain the following columns:\n",
    "        - senators ID (member_id)\n",
    "        - vote ID (id)\n",
    "        - position (position)\n",
    "    \"\"\"\n",
    "    vote_matrix = data[data['question'].isin(questions)]\n",
    "    vote_matrix = vote_matrix.pivot(columns='id', index='member_id', values='position')\n",
    "    \n",
    "    return vote_matrix"
   ]
  },
  {
   "cell_type": "code",
   "execution_count": null,
   "metadata": {},
   "outputs": [],
   "source": [
    "# Example vote matrix\n",
    "vm_data1 = process_vote_file(vote_data_files[210])\n",
    "vm_data2 = process_vote_file(vote_data_files[202])\n",
    "vm_data = pd.concat([vm_data1.head(10), vm_data2.head(10)]) \n",
    "\n",
    "display(vm_data)\n",
    "\n",
    "vm = build_vote_matrix([NOMINATION_VOTE,CLOTURE_MOTION_VOTE,MOTION_VOTE], vm_data)\n",
    "\n",
    "display(vm)"
   ]
  },
  {
   "cell_type": "code",
   "execution_count": null,
   "metadata": {},
   "outputs": [],
   "source": [
    "# Compiling senators from all congresses\n",
    "raw_senators = pd.DataFrame()\n",
    "\n",
    "for i in range (115, 80 - 1, -1):\n",
    "    df = pd.read_csv(\"data/senate_members/senate_members_{congress}.csv\".format(congress = i))\n",
    "    df['congress'] = i\n",
    "    raw_senators = pd.concat([raw_senators, df], sort=False)\n",
    "    \n",
    "    \n",
    "# Compiling commities\n",
    "raw_commities = pd.DataFrame()\n",
    "\n",
    "for i in range (115, 110 - 1, -1):\n",
    "    df = pd.read_csv(\"data/commities/commities_{congress}.csv\".format(congress = i))\n",
    "    df['congress'] = i\n",
    "    raw_commities = pd.concat([raw_senators, df], sort=False)\n",
    "    \n",
    "    \n",
    "# Retrieving votes\n",
    "raw_votes = pd.read_csv(Z_FILE.open(\"votes.csv\"))\n",
    "\n",
    "#Retrieving lobbies\n",
    "raw_lobbies = pd.read_csv(\"data/lobby/lobby.csv\")"
   ]
  },
  {
   "cell_type": "code",
   "execution_count": null,
   "metadata": {},
   "outputs": [],
   "source": [
    "raw_senators.columns"
   ]
  },
  {
   "cell_type": "code",
   "execution_count": null,
   "metadata": {},
   "outputs": [],
   "source": [
    "# Do senators tend to vote more and more with their party ?\n",
    "\n",
    "data = raw_senators[raw_senators['congress'] > 100]\n",
    "ax = data.boxplot(column='votes_with_party_pct', by='congress', figsize=(15,10))\n",
    "ax.set(xlabel=\"Congress\", ylabel=\"Percentage of votes with party\")\n",
    "ax.get_figure().suptitle(\"\")\n",
    "\n",
    "plt.title(\"Evolution of voting with party percentage\")\n",
    "plt.show()"
   ]
  },
  {
   "cell_type": "code",
   "execution_count": null,
   "metadata": {},
   "outputs": [],
   "source": [
    "gc = gender_count.unstack()\n",
    "gc.columns = gc.columns.droplevel()\n",
    "# Compute gender percentages\n",
    "gc = gc.div(gc.sum(axis=1),axis=0).fillna(0)\n",
    "gc['F'].plot(kind='line', figsize=(15,10), marker='o', linestyle='-')\n",
    "plt.title(\"Proportion of women in senate\")"
   ]
  },
  {
   "cell_type": "code",
   "execution_count": null,
   "metadata": {},
   "outputs": [],
   "source": [
    "raw_votes.columns"
   ]
  },
  {
   "cell_type": "code",
   "execution_count": null,
   "metadata": {
    "collapsed": true
   },
   "outputs": [],
   "source": [
    "raw_votes.head()"
   ]
  },
  {
   "cell_type": "code",
   "execution_count": null,
   "metadata": {
    "collapsed": true
   },
   "outputs": [],
   "source": []
  }
 ],
 "metadata": {
  "kernelspec": {
   "display_name": "Python 3",
   "language": "python",
   "name": "python3"
  },
  "language_info": {
   "codemirror_mode": {
    "name": "ipython",
    "version": 3
   },
   "file_extension": ".py",
   "mimetype": "text/x-python",
   "name": "python",
   "nbconvert_exporter": "python",
   "pygments_lexer": "ipython3",
   "version": "3.6.3"
  }
 },
 "nbformat": 4,
 "nbformat_minor": 2
}
