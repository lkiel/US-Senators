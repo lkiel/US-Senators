{
 "cells": [
  {
   "cell_type": "markdown",
   "metadata": {},
   "source": [
    "# IMPORTS"
   ]
  },
  {
   "cell_type": "code",
   "execution_count": 1,
   "metadata": {},
   "outputs": [],
   "source": [
    "import numpy as np\n",
    "import pandas as pd\n",
    "import matplotlib.pyplot as plt\n",
    "import scipy as sc\n",
    "from scipy import linalg\n",
    "from sklearn.cluster import KMeans\n",
    "from pyunlocbox import functions, solvers\n",
    "import networkx as nx"
   ]
  },
  {
   "cell_type": "code",
   "execution_count": 2,
   "metadata": {},
   "outputs": [],
   "source": [
    "ADJACENCY_PATH = 'data/adjacency_matrices/'\n",
    "MEMBER_ID_PATH = 'data/member_matrices/member_id_party'"
   ]
  },
  {
   "cell_type": "code",
   "execution_count": 3,
   "metadata": {},
   "outputs": [
    {
     "data": {
      "text/html": [
       "<div>\n",
       "<style scoped>\n",
       "    .dataframe tbody tr th:only-of-type {\n",
       "        vertical-align: middle;\n",
       "    }\n",
       "\n",
       "    .dataframe tbody tr th {\n",
       "        vertical-align: top;\n",
       "    }\n",
       "\n",
       "    .dataframe thead th {\n",
       "        text-align: right;\n",
       "    }\n",
       "</style>\n",
       "<table border=\"1\" class=\"dataframe\">\n",
       "  <thead>\n",
       "    <tr style=\"text-align: right;\">\n",
       "      <th></th>\n",
       "      <th>id</th>\n",
       "      <th>bill.number</th>\n",
       "      <th>congress</th>\n",
       "      <th>member_id</th>\n",
       "      <th>question</th>\n",
       "      <th>position</th>\n",
       "      <th>timestamp</th>\n",
       "    </tr>\n",
       "  </thead>\n",
       "  <tbody>\n",
       "    <tr>\n",
       "      <th>0</th>\n",
       "      <td>hr6-115-221</td>\n",
       "      <td>H.R.6</td>\n",
       "      <td>115</td>\n",
       "      <td>A000360</td>\n",
       "      <td>On the Motion</td>\n",
       "      <td>1</td>\n",
       "      <td>2018-10-03 15:18:00</td>\n",
       "    </tr>\n",
       "    <tr>\n",
       "      <th>1</th>\n",
       "      <td>hr302-115-220</td>\n",
       "      <td>H.R.302</td>\n",
       "      <td>115</td>\n",
       "      <td>A000360</td>\n",
       "      <td>On the Motion</td>\n",
       "      <td>1</td>\n",
       "      <td>2018-10-03 12:01:00</td>\n",
       "    </tr>\n",
       "    <tr>\n",
       "      <th>2</th>\n",
       "      <td>hr302-115-219</td>\n",
       "      <td>H.R.302</td>\n",
       "      <td>115</td>\n",
       "      <td>A000360</td>\n",
       "      <td>On the Cloture Motion</td>\n",
       "      <td>1</td>\n",
       "      <td>2018-10-01 17:31:00</td>\n",
       "    </tr>\n",
       "    <tr>\n",
       "      <th>3</th>\n",
       "      <td>pn1677-115-218</td>\n",
       "      <td>PN1677</td>\n",
       "      <td>115</td>\n",
       "      <td>A000360</td>\n",
       "      <td>On the Nomination</td>\n",
       "      <td>1</td>\n",
       "      <td>2018-09-27 12:41:00</td>\n",
       "    </tr>\n",
       "    <tr>\n",
       "      <th>4</th>\n",
       "      <td>pn2073-115-217</td>\n",
       "      <td>PN2073</td>\n",
       "      <td>115</td>\n",
       "      <td>A000360</td>\n",
       "      <td>On the Nomination</td>\n",
       "      <td>1</td>\n",
       "      <td>2018-09-26 13:46:00</td>\n",
       "    </tr>\n",
       "  </tbody>\n",
       "</table>\n",
       "</div>"
      ],
      "text/plain": [
       "               id bill.number  congress member_id               question  \\\n",
       "0     hr6-115-221       H.R.6       115   A000360          On the Motion   \n",
       "1   hr302-115-220     H.R.302       115   A000360          On the Motion   \n",
       "2   hr302-115-219     H.R.302       115   A000360  On the Cloture Motion   \n",
       "3  pn1677-115-218      PN1677       115   A000360      On the Nomination   \n",
       "4  pn2073-115-217      PN2073       115   A000360      On the Nomination   \n",
       "\n",
       "  position           timestamp  \n",
       "0        1 2018-10-03 15:18:00  \n",
       "1        1 2018-10-03 12:01:00  \n",
       "2        1 2018-10-01 17:31:00  \n",
       "3        1 2018-09-27 12:41:00  \n",
       "4        1 2018-09-26 13:46:00  "
      ]
     },
     "execution_count": 3,
     "metadata": {},
     "output_type": "execute_result"
    }
   ],
   "source": [
    "# Import votes by senators\n",
    "rawvotes = pd.read_pickle(\"data/votes.pickle\")\n",
    "rawvotes.head()"
   ]
  },
  {
   "cell_type": "markdown",
   "metadata": {},
   "source": [
    "# FEATURE SELECTION"
   ]
  },
  {
   "cell_type": "code",
   "execution_count": 4,
   "metadata": {},
   "outputs": [
    {
     "name": "stdout",
     "output_type": "stream",
     "text": [
      "(96, 77)\n"
     ]
    },
    {
     "data": {
      "text/html": [
       "<div>\n",
       "<style scoped>\n",
       "    .dataframe tbody tr th:only-of-type {\n",
       "        vertical-align: middle;\n",
       "    }\n",
       "\n",
       "    .dataframe tbody tr th {\n",
       "        vertical-align: top;\n",
       "    }\n",
       "\n",
       "    .dataframe thead th {\n",
       "        text-align: right;\n",
       "    }\n",
       "</style>\n",
       "<table border=\"1\" class=\"dataframe\">\n",
       "  <thead>\n",
       "    <tr style=\"text-align: right;\">\n",
       "      <th>id</th>\n",
       "      <th>hconres71-115-220</th>\n",
       "      <th>hconres71-115-221</th>\n",
       "      <th>hconres71-115-222</th>\n",
       "      <th>hconres71-115-223</th>\n",
       "      <th>hconres71-115-225</th>\n",
       "      <th>hconres71-115-226</th>\n",
       "      <th>hconres71-115-228</th>\n",
       "      <th>hconres71-115-229</th>\n",
       "      <th>hconres71-115-230</th>\n",
       "      <th>hconres71-115-232</th>\n",
       "      <th>...</th>\n",
       "      <th>s2554-115-208</th>\n",
       "      <th>s2554-115-209</th>\n",
       "      <th>s722-115-144</th>\n",
       "      <th>s722-115-145</th>\n",
       "      <th>s722-115-146</th>\n",
       "      <th>s722-115-147</th>\n",
       "      <th>s84-115-27</th>\n",
       "      <th>s89-115-102</th>\n",
       "      <th>sconres3-115-20</th>\n",
       "      <th>sconres3-115-3</th>\n",
       "    </tr>\n",
       "    <tr>\n",
       "      <th>member_id</th>\n",
       "      <th></th>\n",
       "      <th></th>\n",
       "      <th></th>\n",
       "      <th></th>\n",
       "      <th></th>\n",
       "      <th></th>\n",
       "      <th></th>\n",
       "      <th></th>\n",
       "      <th></th>\n",
       "      <th></th>\n",
       "      <th></th>\n",
       "      <th></th>\n",
       "      <th></th>\n",
       "      <th></th>\n",
       "      <th></th>\n",
       "      <th></th>\n",
       "      <th></th>\n",
       "      <th></th>\n",
       "      <th></th>\n",
       "      <th></th>\n",
       "      <th></th>\n",
       "    </tr>\n",
       "  </thead>\n",
       "  <tbody>\n",
       "    <tr>\n",
       "      <th>A000360</th>\n",
       "      <td>1</td>\n",
       "      <td>-1</td>\n",
       "      <td>-1</td>\n",
       "      <td>1</td>\n",
       "      <td>-1</td>\n",
       "      <td>1</td>\n",
       "      <td>-1</td>\n",
       "      <td>1</td>\n",
       "      <td>-1</td>\n",
       "      <td>-1</td>\n",
       "      <td>...</td>\n",
       "      <td>-1</td>\n",
       "      <td>1</td>\n",
       "      <td>1</td>\n",
       "      <td>1</td>\n",
       "      <td>1</td>\n",
       "      <td>1</td>\n",
       "      <td>0</td>\n",
       "      <td>1</td>\n",
       "      <td>-1</td>\n",
       "      <td>-1</td>\n",
       "    </tr>\n",
       "    <tr>\n",
       "      <th>B000575</th>\n",
       "      <td>0</td>\n",
       "      <td>0</td>\n",
       "      <td>0</td>\n",
       "      <td>0</td>\n",
       "      <td>-1</td>\n",
       "      <td>1</td>\n",
       "      <td>-1</td>\n",
       "      <td>1</td>\n",
       "      <td>-1</td>\n",
       "      <td>-1</td>\n",
       "      <td>...</td>\n",
       "      <td>-1</td>\n",
       "      <td>1</td>\n",
       "      <td>1</td>\n",
       "      <td>1</td>\n",
       "      <td>1</td>\n",
       "      <td>1</td>\n",
       "      <td>1</td>\n",
       "      <td>1</td>\n",
       "      <td>-1</td>\n",
       "      <td>0</td>\n",
       "    </tr>\n",
       "    <tr>\n",
       "      <th>B000944</th>\n",
       "      <td>1</td>\n",
       "      <td>1</td>\n",
       "      <td>1</td>\n",
       "      <td>1</td>\n",
       "      <td>1</td>\n",
       "      <td>-1</td>\n",
       "      <td>1</td>\n",
       "      <td>1</td>\n",
       "      <td>1</td>\n",
       "      <td>1</td>\n",
       "      <td>...</td>\n",
       "      <td>-1</td>\n",
       "      <td>1</td>\n",
       "      <td>1</td>\n",
       "      <td>1</td>\n",
       "      <td>1</td>\n",
       "      <td>1</td>\n",
       "      <td>1</td>\n",
       "      <td>1</td>\n",
       "      <td>1</td>\n",
       "      <td>-1</td>\n",
       "    </tr>\n",
       "    <tr>\n",
       "      <th>B001135</th>\n",
       "      <td>1</td>\n",
       "      <td>-1</td>\n",
       "      <td>-1</td>\n",
       "      <td>1</td>\n",
       "      <td>-1</td>\n",
       "      <td>1</td>\n",
       "      <td>-1</td>\n",
       "      <td>1</td>\n",
       "      <td>-1</td>\n",
       "      <td>-1</td>\n",
       "      <td>...</td>\n",
       "      <td>-1</td>\n",
       "      <td>1</td>\n",
       "      <td>1</td>\n",
       "      <td>1</td>\n",
       "      <td>1</td>\n",
       "      <td>1</td>\n",
       "      <td>1</td>\n",
       "      <td>1</td>\n",
       "      <td>-1</td>\n",
       "      <td>-1</td>\n",
       "    </tr>\n",
       "    <tr>\n",
       "      <th>B001230</th>\n",
       "      <td>1</td>\n",
       "      <td>1</td>\n",
       "      <td>1</td>\n",
       "      <td>1</td>\n",
       "      <td>1</td>\n",
       "      <td>-1</td>\n",
       "      <td>1</td>\n",
       "      <td>1</td>\n",
       "      <td>1</td>\n",
       "      <td>1</td>\n",
       "      <td>...</td>\n",
       "      <td>-1</td>\n",
       "      <td>1</td>\n",
       "      <td>1</td>\n",
       "      <td>1</td>\n",
       "      <td>1</td>\n",
       "      <td>1</td>\n",
       "      <td>-1</td>\n",
       "      <td>1</td>\n",
       "      <td>1</td>\n",
       "      <td>-1</td>\n",
       "    </tr>\n",
       "  </tbody>\n",
       "</table>\n",
       "<p>5 rows × 77 columns</p>\n",
       "</div>"
      ],
      "text/plain": [
       "id        hconres71-115-220 hconres71-115-221 hconres71-115-222  \\\n",
       "member_id                                                         \n",
       "A000360                   1                -1                -1   \n",
       "B000575                   0                 0                 0   \n",
       "B000944                   1                 1                 1   \n",
       "B001135                   1                -1                -1   \n",
       "B001230                   1                 1                 1   \n",
       "\n",
       "id        hconres71-115-223 hconres71-115-225 hconres71-115-226  \\\n",
       "member_id                                                         \n",
       "A000360                   1                -1                 1   \n",
       "B000575                   0                -1                 1   \n",
       "B000944                   1                 1                -1   \n",
       "B001135                   1                -1                 1   \n",
       "B001230                   1                 1                -1   \n",
       "\n",
       "id        hconres71-115-228 hconres71-115-229 hconres71-115-230  \\\n",
       "member_id                                                         \n",
       "A000360                  -1                 1                -1   \n",
       "B000575                  -1                 1                -1   \n",
       "B000944                   1                 1                 1   \n",
       "B001135                  -1                 1                -1   \n",
       "B001230                   1                 1                 1   \n",
       "\n",
       "id        hconres71-115-232      ...       s2554-115-208 s2554-115-209  \\\n",
       "member_id                        ...                                     \n",
       "A000360                  -1      ...                  -1             1   \n",
       "B000575                  -1      ...                  -1             1   \n",
       "B000944                   1      ...                  -1             1   \n",
       "B001135                  -1      ...                  -1             1   \n",
       "B001230                   1      ...                  -1             1   \n",
       "\n",
       "id        s722-115-144 s722-115-145 s722-115-146 s722-115-147 s84-115-27  \\\n",
       "member_id                                                                  \n",
       "A000360              1            1            1            1          0   \n",
       "B000575              1            1            1            1          1   \n",
       "B000944              1            1            1            1          1   \n",
       "B001135              1            1            1            1          1   \n",
       "B001230              1            1            1            1         -1   \n",
       "\n",
       "id        s89-115-102 sconres3-115-20 sconres3-115-3  \n",
       "member_id                                             \n",
       "A000360             1              -1             -1  \n",
       "B000575             1              -1              0  \n",
       "B000944             1               1             -1  \n",
       "B001135             1              -1             -1  \n",
       "B001230             1               1             -1  \n",
       "\n",
       "[5 rows x 77 columns]"
      ]
     },
     "execution_count": 4,
     "metadata": {},
     "output_type": "execute_result"
    }
   ],
   "source": [
    "NOMINATION_VOTE = \"On the Nomination\"\n",
    "MOTION_VOTE = \"On the Motion\"\n",
    "AMENDMENT_VOTE = \"On the Amendment\"\n",
    "MOTION_TO_TABLE_VOTE = \"On the Motion to Table\"\n",
    "CLOTURE_MOTION_VOTE = \"On the Cloture Motion\"\n",
    "BILL_PASSAGE = \"On Passage of the Bill\"\n",
    "\n",
    "def build_vote_matrix(questions, data):\n",
    "    \"\"\"\n",
    "    Given a list of questions, build a vote matrix.\n",
    "    Index are senators IDs, columns are vote IDs and values are the respective positions\n",
    "    of the senators with respect to the question (Yes, No, blank or NaN if the senator\n",
    "    did not take part in the vote)\n",
    "    \n",
    "    Data should contain the following columns:\n",
    "        - senators ID (member_id)\n",
    "        - vote ID (id)\n",
    "        - position (position)\n",
    "    \"\"\"    \n",
    "    \n",
    "    vote_matrix = data \n",
    "    \n",
    "    if len(questions) > 0:\n",
    "        vote_matrix = data[data['question'].isin(questions)]\n",
    "        \n",
    "    vote_matrix = vote_matrix.pivot(columns='id', index='member_id', values='position')\n",
    "    \n",
    "    return vote_matrix\n",
    "# Keep only bill passage votes and AMENDMENT_VOTE\n",
    "vote_matrix = build_vote_matrix([BILL_PASSAGE, AMENDMENT_VOTE], rawvotes).dropna(0)\n",
    "print(vote_matrix.shape)\n",
    "vote_matrix.head()"
   ]
  },
  {
   "cell_type": "code",
   "execution_count": 5,
   "metadata": {},
   "outputs": [
    {
     "name": "stdout",
     "output_type": "stream",
     "text": [
      "(104, 1110)\n"
     ]
    }
   ],
   "source": [
    "# Loads bills data\n",
    "bill_matrix = pd.read_pickle(\"data/member_matrices/member_to_bill_sponsoring.pickle\").dropna(0)\n",
    "print(bill_matrix.shape)"
   ]
  },
  {
   "cell_type": "code",
   "execution_count": 6,
   "metadata": {},
   "outputs": [],
   "source": [
    "def build_commities_matrix(raw_commities):\n",
    "    res = raw_commities.copy()\n",
    "    res['halfcommittee'] =  res['comitee'].map(str)\n",
    "    res['pos'] = 1\n",
    "    res = res.drop_duplicates(['id','halfcommittee'])\n",
    "    res = res.pivot(columns = 'halfcommittee',index='id', values='pos')\n",
    "    res = res.fillna(0)\n",
    "    return res\n",
    "\n",
    "\n",
    "# Assign each senator to its commitee\n",
    "rawcommitees = pd.read_csv(\"data/commitees/commitees_115/members.csv\")\n",
    "committees_matrix = build_commities_matrix(rawcommitees) "
   ]
  },
  {
   "cell_type": "code",
   "execution_count": 7,
   "metadata": {},
   "outputs": [
    {
     "name": "stdout",
     "output_type": "stream",
     "text": [
      "(97, 12)\n"
     ]
    },
    {
     "data": {
      "text/html": [
       "<div>\n",
       "<style scoped>\n",
       "    .dataframe tbody tr th:only-of-type {\n",
       "        vertical-align: middle;\n",
       "    }\n",
       "\n",
       "    .dataframe tbody tr th {\n",
       "        vertical-align: top;\n",
       "    }\n",
       "\n",
       "    .dataframe thead th {\n",
       "        text-align: right;\n",
       "    }\n",
       "</style>\n",
       "<table border=\"1\" class=\"dataframe\">\n",
       "  <thead>\n",
       "    <tr style=\"text-align: right;\">\n",
       "      <th>halfcommittee</th>\n",
       "      <th>SSAF</th>\n",
       "      <th>SSAP</th>\n",
       "      <th>SSAS</th>\n",
       "      <th>SSBK</th>\n",
       "      <th>SSCM</th>\n",
       "      <th>SSEG</th>\n",
       "      <th>SSEV</th>\n",
       "      <th>SSFI</th>\n",
       "      <th>SSFR</th>\n",
       "      <th>SSGA</th>\n",
       "      <th>SSHR</th>\n",
       "      <th>SSJU</th>\n",
       "    </tr>\n",
       "    <tr>\n",
       "      <th>id</th>\n",
       "      <th></th>\n",
       "      <th></th>\n",
       "      <th></th>\n",
       "      <th></th>\n",
       "      <th></th>\n",
       "      <th></th>\n",
       "      <th></th>\n",
       "      <th></th>\n",
       "      <th></th>\n",
       "      <th></th>\n",
       "      <th></th>\n",
       "      <th></th>\n",
       "    </tr>\n",
       "  </thead>\n",
       "  <tbody>\n",
       "    <tr>\n",
       "      <th>A000360</th>\n",
       "      <td>0.0</td>\n",
       "      <td>1.0</td>\n",
       "      <td>0.0</td>\n",
       "      <td>0.0</td>\n",
       "      <td>0.0</td>\n",
       "      <td>1.0</td>\n",
       "      <td>0.0</td>\n",
       "      <td>0.0</td>\n",
       "      <td>0.0</td>\n",
       "      <td>0.0</td>\n",
       "      <td>0.0</td>\n",
       "      <td>0.0</td>\n",
       "    </tr>\n",
       "    <tr>\n",
       "      <th>B000575</th>\n",
       "      <td>0.0</td>\n",
       "      <td>1.0</td>\n",
       "      <td>0.0</td>\n",
       "      <td>0.0</td>\n",
       "      <td>1.0</td>\n",
       "      <td>0.0</td>\n",
       "      <td>0.0</td>\n",
       "      <td>0.0</td>\n",
       "      <td>0.0</td>\n",
       "      <td>0.0</td>\n",
       "      <td>0.0</td>\n",
       "      <td>0.0</td>\n",
       "    </tr>\n",
       "    <tr>\n",
       "      <th>B000944</th>\n",
       "      <td>1.0</td>\n",
       "      <td>0.0</td>\n",
       "      <td>0.0</td>\n",
       "      <td>0.0</td>\n",
       "      <td>0.0</td>\n",
       "      <td>0.0</td>\n",
       "      <td>0.0</td>\n",
       "      <td>1.0</td>\n",
       "      <td>0.0</td>\n",
       "      <td>0.0</td>\n",
       "      <td>0.0</td>\n",
       "      <td>0.0</td>\n",
       "    </tr>\n",
       "    <tr>\n",
       "      <th>B001135</th>\n",
       "      <td>0.0</td>\n",
       "      <td>0.0</td>\n",
       "      <td>0.0</td>\n",
       "      <td>0.0</td>\n",
       "      <td>0.0</td>\n",
       "      <td>0.0</td>\n",
       "      <td>0.0</td>\n",
       "      <td>1.0</td>\n",
       "      <td>0.0</td>\n",
       "      <td>0.0</td>\n",
       "      <td>1.0</td>\n",
       "      <td>0.0</td>\n",
       "    </tr>\n",
       "    <tr>\n",
       "      <th>B001230</th>\n",
       "      <td>0.0</td>\n",
       "      <td>1.0</td>\n",
       "      <td>0.0</td>\n",
       "      <td>0.0</td>\n",
       "      <td>1.0</td>\n",
       "      <td>0.0</td>\n",
       "      <td>0.0</td>\n",
       "      <td>0.0</td>\n",
       "      <td>0.0</td>\n",
       "      <td>0.0</td>\n",
       "      <td>1.0</td>\n",
       "      <td>0.0</td>\n",
       "    </tr>\n",
       "  </tbody>\n",
       "</table>\n",
       "</div>"
      ],
      "text/plain": [
       "halfcommittee  SSAF  SSAP  SSAS  SSBK  SSCM  SSEG  SSEV  SSFI  SSFR  SSGA  \\\n",
       "id                                                                          \n",
       "A000360         0.0   1.0   0.0   0.0   0.0   1.0   0.0   0.0   0.0   0.0   \n",
       "B000575         0.0   1.0   0.0   0.0   1.0   0.0   0.0   0.0   0.0   0.0   \n",
       "B000944         1.0   0.0   0.0   0.0   0.0   0.0   0.0   1.0   0.0   0.0   \n",
       "B001135         0.0   0.0   0.0   0.0   0.0   0.0   0.0   1.0   0.0   0.0   \n",
       "B001230         0.0   1.0   0.0   0.0   1.0   0.0   0.0   0.0   0.0   0.0   \n",
       "\n",
       "halfcommittee  SSHR  SSJU  \n",
       "id                         \n",
       "A000360         0.0   0.0  \n",
       "B000575         0.0   0.0  \n",
       "B000944         0.0   0.0  \n",
       "B001135         1.0   0.0  \n",
       "B001230         1.0   0.0  "
      ]
     },
     "execution_count": 7,
     "metadata": {},
     "output_type": "execute_result"
    }
   ],
   "source": [
    "print(committees_matrix.shape)\n",
    "committees_matrix.head()"
   ]
  },
  {
   "cell_type": "code",
   "execution_count": 8,
   "metadata": {},
   "outputs": [
    {
     "name": "stdout",
     "output_type": "stream",
     "text": [
      "Index(['A000360', 'B000575', 'B000944', 'B001135', 'B001230', 'B001236',\n",
      "       'B001261', 'B001267', 'B001277', 'B001288', 'C000127', 'C000141',\n",
      "       'C000174', 'C000880', 'C001035', 'C001047', 'C001056', 'C001070',\n",
      "       'C001071', 'C001075', 'C001088', 'C001095', 'C001098', 'C001113',\n",
      "       'D000563', 'D000607', 'D000618', 'D000622', 'E000285', 'E000295',\n",
      "       'F000062', 'F000444', 'F000463', 'G000359', 'G000386', 'G000555',\n",
      "       'G000562', 'H000338', 'H001041', 'H001042', 'H001046', 'H001061',\n",
      "       'H001069', 'H001075', 'H001076', 'I000024', 'I000055', 'J000293',\n",
      "       'K000367', 'K000383', 'K000384', 'K000393', 'L000174', 'L000575',\n",
      "       'L000577', 'M000133', 'M000355', 'M000639', 'M000934', 'M001111',\n",
      "       'M001153', 'M001169', 'M001170', 'M001176', 'M001183', 'N000032',\n",
      "       'P000449', 'P000595', 'P000603', 'P000612', 'R000122', 'R000307',\n",
      "       'R000584', 'R000595', 'R000605', 'S000033', 'S000320', 'S000770',\n",
      "       'S001181', 'S001184', 'S001194', 'S001197', 'S001198', 'T000250',\n",
      "       'T000461', 'T000464', 'T000476', 'U000039', 'V000128', 'W000437',\n",
      "       'W000779', 'W000802', 'W000805', 'W000817', 'Y000064'],\n",
      "      dtype='object')\n"
     ]
    }
   ],
   "source": [
    "# Keep only senators for which we have bills sponsoring data,votes data and commitee membership data \n",
    "common_senators = vote_matrix.index.intersection(bill_matrix.index.intersection(committees_matrix.index))\n",
    "print(common_senators)\n",
    "vote_matrix = vote_matrix.loc[common_senators]\n",
    "bill_matrix = bill_matrix.loc[common_senators]\n",
    "committees_matrix = committees_matrix.loc[common_senators]"
   ]
  },
  {
   "cell_type": "code",
   "execution_count": 9,
   "metadata": {},
   "outputs": [
    {
     "name": "stdout",
     "output_type": "stream",
     "text": [
      "(95, 77)\n",
      "(95, 1110)\n",
      "(95, 12)\n"
     ]
    }
   ],
   "source": [
    "print(vote_matrix.shape)\n",
    "print(bill_matrix.shape)\n",
    "print(committees_matrix.shape)"
   ]
  },
  {
   "cell_type": "code",
   "execution_count": 10,
   "metadata": {},
   "outputs": [
    {
     "name": "stdout",
     "output_type": "stream",
     "text": [
      "party    D\n",
      "Name: H001046, dtype: object\n",
      "party    R\n",
      "Name: T000250, dtype: object\n"
     ]
    }
   ],
   "source": [
    "raw_senators = pd.read_csv(\"data/senate_members/senate_members_115.csv\")[['id', 'party']].set_index('id')\n",
    "senators = raw_senators.loc[common_senators]\n",
    "np.save(MEMBER_ID_PATH, senators['party'].values)\n",
    "labels = senators['party'].values\n",
    "dict_mapping = {'R':0,'D':1,'I':2}\n",
    "labels = np.vectorize(dict_mapping.get)(labels)\n",
    "print(senators.iloc[40])\n",
    "print(senators.iloc[83])"
   ]
  },
  {
   "cell_type": "markdown",
   "metadata": {},
   "source": [
    "# ---"
   ]
  },
  {
   "cell_type": "code",
   "execution_count": 11,
   "metadata": {},
   "outputs": [],
   "source": [
    "def euclidean_distance(x,y):\n",
    "    \"\"\"\n",
    "    Given two vectors of the same length, return the euclidean distance between the two vectors.\n",
    "    \"\"\"\n",
    "    return np.sqrt(np.sum(np.power(x-y,2)))\n",
    "\n",
    "def hamming_distance(x,y):\n",
    "    \"\"\"\n",
    "    Given two vectors of the same length, return the hamming distance betweem the two vectors.\n",
    "    \"\"\"\n",
    "    a = x != y\n",
    "    return a.sum()\n",
    "\n",
    "def cosine_similarity(x,y):\n",
    "    \"\"\"\n",
    "    Given two vectors of the same length, return the cosine similarity betweem the two vectors.\n",
    "    \"\"\"\n",
    "    return 0.5 * (1 + (np.dot(x,y))/(np.linalg.norm(x)*np.linalg.norm(y)))\n",
    "\n",
    "def gaussian_kernel(distance_matrix):\n",
    "    \"\"\"\n",
    "    Given a matrix calculate the gaussian kernel of it. The variance is given by the mean of the matrix. \n",
    "    \"\"\"\n",
    "    kernel_width = distance_matrix.mean()\n",
    "    res = np.exp(-distance_matrix**2 / kernel_width**2)\n",
    "    return res\n",
    "\n",
    "def linear_kernel(distance_matrix):\n",
    "    \"\"\"\n",
    "    Given a matrix calculate the linear kernel of it.\n",
    "    \"\"\"\n",
    "    max_adj = np.max(distance_matrix)\n",
    "    min_adj = np.min(distance_matrix)\n",
    "    res = 1 - (distance_matrix - min_adj)/(max_adj-min_adj)\n",
    "    return res\n",
    "\n",
    "def identity_kernel(distance_matrix):\n",
    "    \"\"\"\n",
    "    Given a matrix calculate the indentity kernel of it. The indentity kernel will not change the matrix.\n",
    "    \"\"\"\n",
    "    return distance_matrix\n",
    "\n",
    "def sparsify_with_limit(adjacency, limit = 0.35):\n",
    "    \"\"\"\n",
    "    Sparsify a matrix by putting each of element of the adjacency matrix to 0\n",
    "    if it is below the limit.\n",
    "    \"\"\"\n",
    "    res = adjacency.copy()\n",
    "    res[res < limit] = 0\n",
    "    return res\n",
    "\n",
    "def sparsify_with_neg_limit(adjacency, limit = 0.35):\n",
    "    \"\"\"\n",
    "    Sparsify a matrix by putting each of element of the adjacency matrix to 0\n",
    "    if it is below the limit.\n",
    "    \"\"\"\n",
    "    res = adjacency.copy()\n",
    "    res[res > limit] = 0\n",
    "    return res\n",
    "\n",
    "def sparsify_with_max_neighbors(adjacency, max_neighbors = 45):\n",
    "    \"\"\"\n",
    "    Sparsify a matrix by greedily adding the links of higher weight such that each node\n",
    "    doesn't have more neighbors than max_neighbors \n",
    "    \"\"\"\n",
    "    number_of_nodes = adjacency.shape[0]    \n",
    "    \n",
    "    index_sort = np.argsort(adjacency,axis=None)[::-1]\n",
    "    flatten_adjacency = adjacency.flatten()\n",
    "    res = np.zeros(adjacency.shape)\n",
    "    counter = 0\n",
    "\n",
    "    for i in range(len(index_sort)):\n",
    "        if counter >= max_neighbors * number_of_nodes:\n",
    "            break\n",
    "        \n",
    "        node_1 = index_sort[i] % number_of_nodes\n",
    "        node_2 = int(index_sort[i] / number_of_nodes)\n",
    "\n",
    "        if(np.count_nonzero(res[node_1]) < max_neighbors and np.count_nonzero(res[node_2]) < max_neighbors):\n",
    "            res[node_1,node_2] = flatten_adjacency[index_sort[i]]\n",
    "            res[node_2,node_1] = flatten_adjacency[index_sort[i]]\n",
    "            counter += 1\n",
    "                   \n",
    "    return res"
   ]
  },
  {
   "cell_type": "code",
   "execution_count": 12,
   "metadata": {},
   "outputs": [],
   "source": [
    "def get_adjacency_multidistance(features_list, weights, distance_function, kernel_function, sparsify):\n",
    "    '''\n",
    "    Construct an adjecency matrix matrix using  the features passed in parameter.\n",
    "    -The final is computed as a weighted sum of the distances matrices obtained using the different features \n",
    "    '''\n",
    "    number_of_nodes = features_list[0].shape[0]\n",
    "    result = np.zeros((number_of_nodes, number_of_nodes))\n",
    "    meshgrid_nodes = np.mgrid[:number_of_nodes,:number_of_nodes]\n",
    "    \n",
    "    for i, features in enumerate(features_list):\n",
    "        distance_matrix = np.apply_along_axis(lambda x: distance_function(features[x[0]],features[x[1]]) ,0,meshgrid_nodes)\n",
    "        kernel = kernel_function(distance_matrix)\n",
    "        np.fill_diagonal(kernel, 0)\n",
    "        \n",
    "        result += weights[i] * sparsify[i](kernel)\n",
    "        \n",
    "    return result  "
   ]
  },
  {
   "cell_type": "code",
   "execution_count": 13,
   "metadata": {},
   "outputs": [],
   "source": [
    "def get_counted_adjacency(features):\n",
    "    ''' Count similarities between senators according to a feature.\n",
    "    The feature matrices passed in parameter are M*N where m is the number of senators and N \n",
    "    is the associated feature (e.g votings,comittees membership...) '''\n",
    "    def similarity_count(senator_1,senator_2):\n",
    "        if senator_1 == senator_2:\n",
    "            return 0\n",
    "        else:\n",
    "            # Count similarities for 2 senators only if the compared feature values is non-zero\n",
    "            # As zero represent missing data\n",
    "            similarities = features[senator_1] == features[senator_2]\n",
    "            return np.sum(similarities * ~np.isclose(features[senator_1], 0))\n",
    "            \n",
    "    meshgrid_features = np.mgrid[:features.shape[0],:features.shape[0]]\n",
    "    similarity_count = np.apply_along_axis(lambda x: similarity_count(x[0],x[1]) ,0,meshgrid_features)\n",
    "\n",
    "    min_ = np.min(similarity_count)\n",
    "    max_ = np.max(similarity_count)\n",
    "    similarity_count = (similarity_count - min_)/(max_ - min_)\n",
    "                    \n",
    "    return similarity_count"
   ]
  },
  {
   "cell_type": "code",
   "execution_count": 14,
   "metadata": {},
   "outputs": [
    {
     "data": {
      "image/png": "[encoded data removed]",
      "text/plain": [
       "<Figure size 648x648 with 1 Axes>"
      ]
     },
     "metadata": {},
     "output_type": "display_data"
    },
    {
     "name": "stdout",
     "output_type": "stream",
     "text": [
      "304.18934836663794\n"
     ]
    }
   ],
   "source": [
    "weights = [1,1,1]\n",
    "\n",
    "weights /= np.sum(weights)\n",
    "\n",
    "adjacency = get_adjacency_multidistance(\n",
    "    [vote_matrix.values, bill_matrix.values, committees_matrix.values],\n",
    "    weights,\n",
    "    cosine_similarity,\n",
    "    identity_kernel,\n",
    "    [lambda arg : sparsify_with_max_neighbors(arg,10),\n",
    "    lambda arg : sparsify_with_max_neighbors(arg,10),\n",
    "    lambda arg : sparsify_with_max_neighbors(arg,10)]\n",
    ")\n",
    "\n",
    "adjacency = sparsify_with_limit(adjacency,0.325)\n",
    "np.save(\"data/adjacency_matrices/mixed.npy\", adjacency)\n",
    "\n",
    "plt.figure(figsize=(9,9))\n",
    "plt.spy(adjacency, markersize=3)\n",
    "plt.title('adjacency matrix EUCLIDEAN')\n",
    "plt.show()\n",
    "print(np.sum(adjacency))"
   ]
  },
  {
   "cell_type": "code",
   "execution_count": 18,
   "metadata": {},
   "outputs": [
    {
     "data": {
      "image/png": "[encoded data removed]",
      "text/plain": [
       "<Figure size 648x648 with 1 Axes>"
      ]
     },
     "metadata": {},
     "output_type": "display_data"
    },
    {
     "name": "stdout",
     "output_type": "stream",
     "text": [
      "1761.4568544360127\n"
     ]
    }
   ],
   "source": [
    "goodmat = np.load(ADJACENCY_PATH+\"eucledian.npy\")\n",
    "plt.figure(figsize=(9,9))\n",
    "plt.spy(goodmat, markersize=3)\n",
    "plt.title('adjacency matrix EUCLIDEAN')\n",
    "plt.show()\n",
    "\n",
    "print(np.sum(goodmat))"
   ]
  },
  {
   "cell_type": "code",
   "execution_count": 19,
   "metadata": {},
   "outputs": [
    {
     "data": {
      "text/plain": [
       "(95, 95)"
      ]
     },
     "execution_count": 19,
     "metadata": {},
     "output_type": "execute_result"
    }
   ],
   "source": [
    "adjacency.shape"
   ]
  },
  {
   "cell_type": "markdown",
   "metadata": {},
   "source": [
    "# SIMILARITY GRAPH CONSTRUCTION"
   ]
  },
  {
   "cell_type": "code",
   "execution_count": 20,
   "metadata": {},
   "outputs": [
    {
     "data": {
      "image/png": "[encoded data removed]",
      "text/plain": [
       "<Figure size 648x648 with 1 Axes>"
      ]
     },
     "metadata": {},
     "output_type": "display_data"
    },
    {
     "name": "stdout",
     "output_type": "stream",
     "text": [
      "362.48311688311685\n"
     ]
    }
   ],
   "source": [
    "weights = [1,1,1]\n",
    "\n",
    "# Count similarites in votes,bills and committes membership between senators\n",
    "counted_votes = sparsify_with_max_neighbors(get_counted_adjacency(vote_matrix.values.astype(int)),15.0)\n",
    "counted_bills = sparsify_with_max_neighbors(get_counted_adjacency(bill_matrix.values.astype(int)),15.0)\n",
    "counted_committees = sparsify_with_max_neighbors(get_counted_adjacency(committees_matrix.values.astype(int)), 15.0)\n",
    "\n",
    "# Weighted average of similarity matrices\n",
    "\n",
    "adjacency = np.average([counted_votes, counted_bills, counted_committees], weights=weights, axis=0)\n",
    "adjacency = sparsify_with_limit(adjacency, 0.32)\n",
    "\n",
    "np.save(\"data/adjacency_matrices/mixed.npy\", adjacency)\n",
    "\n",
    "plt.figure(figsize=(9,9))\n",
    "plt.spy(adjacency, markersize=3)\n",
    "plt.title('adjacency matrix EUCLIDEAN')\n",
    "plt.show()\n",
    "\n",
    "print(np.sum(adjacency))"
   ]
  },
  {
   "cell_type": "code",
   "execution_count": 21,
   "metadata": {},
   "outputs": [],
   "source": [
    "node_degrees = np.count_nonzero(adjacency, axis=1)\n",
    "nodes_to_keep = np.nonzero(node_degrees)[0]\n",
    "\n",
    "adjacency = adjacency[np.ix_(nodes_to_keep, nodes_to_keep)]\n",
    "\n",
    "D = np.diag(adjacency.sum(1))\n",
    "A = adjacency\n",
    "laplacian_combinatorial = D - A\n",
    "np.save(\"data/matrices/laplacian.npy\", laplacian_combinatorial)\n",
    "D_half = sc.linalg.fractional_matrix_power(D, -0.5)\n",
    "laplacian_normalized =  D_half @ laplacian_combinatorial @ D_half\n",
    "\n",
    "laplacian = laplacian_combinatorial\n",
    "\n",
    "eigenvalues,eigenvectors =  sc.linalg.eigh(laplacian)"
   ]
  },
  {
   "cell_type": "code",
   "execution_count": 22,
   "metadata": {},
   "outputs": [
    {
     "data": {
      "image/png": "[encoded data removed]",
      "text/plain": [
       "<Figure size 432x288 with 1 Axes>"
      ]
     },
     "metadata": {},
     "output_type": "display_data"
    },
    {
     "data": {
      "image/png": "[encoded data removed]",
      "text/plain": [
       "<Figure size 432x288 with 1 Axes>"
      ]
     },
     "metadata": {},
     "output_type": "display_data"
    }
   ],
   "source": [
    "def embed(laplacian,d):\n",
    "    eigenvalues,eigenvectors =  sc.linalg.eigh(laplacian)\n",
    "    indexes = np.argsort(eigenvalues)\n",
    "\n",
    "    return eigenvectors[:,1:1+d]\n",
    "\n",
    "k = 3\n",
    "def gen_kmeans(k,eigenvectors,random_state = 42):\n",
    "    means = KMeans(n_clusters=k, random_state=random_state).fit(eigenvectors)\n",
    "    return means.labels_\n",
    "\n",
    "colors = ['r','b','g']\n",
    "\n",
    "embedding =  embed(laplacian, 2)\n",
    "plt.scatter(embedding[:,0],embedding[:,1],color=np.array(colors)[labels])\n",
    "plt.show()\n",
    "clusters = gen_kmeans(k,embedding)\n",
    "\n",
    "\n",
    "for i in range(len(embedding)):\n",
    "    plt.scatter(embedding[i,0], embedding[i,1], color=colors[clusters[i]])"
   ]
  },
  {
   "cell_type": "code",
   "execution_count": null,
   "metadata": {},
   "outputs": [],
   "source": []
  },
  {
   "cell_type": "code",
   "execution_count": 23,
   "metadata": {},
   "outputs": [],
   "source": [
    "G = nx.from_numpy_matrix(adjacency)\n",
    "Lb = nx.laplacian_matrix(G)\n",
    "eigval, eigvect = np.linalg.eigh(Lb.todense())"
   ]
  },
  {
   "cell_type": "code",
   "execution_count": 24,
   "metadata": {},
   "outputs": [
    {
     "name": "stderr",
     "output_type": "stream",
     "text": [
      "C:\\Users\\shagi\\AppData\\Local\\conda\\conda\\envs\\ntds_2018\\lib\\site-packages\\networkx\\drawing\\nx_pylab.py:611: MatplotlibDeprecationWarning: isinstance(..., numbers.Number)\n",
      "  if cb.is_numlike(alpha):\n"
     ]
    },
    {
     "data": {
      "image/png": "[encoded data removed]",
      "text/plain": [
       "<Figure size 432x288 with 1 Axes>"
      ]
     },
     "metadata": {},
     "output_type": "display_data"
    }
   ],
   "source": [
    "nx.draw(G, nx.spring_layout(G), with_labels=True)"
   ]
  },
  {
   "cell_type": "code",
   "execution_count": 25,
   "metadata": {},
   "outputs": [
    {
     "ename": "IndentationError",
     "evalue": "unexpected indent (<ipython-input-25-d9163b80b113>, line 31)",
     "output_type": "error",
     "traceback": [
      "\u001b[1;36m  File \u001b[1;32m\"<ipython-input-25-d9163b80b113>\"\u001b[1;36m, line \u001b[1;32m31\u001b[0m\n\u001b[1;33m    if remove_0:\u001b[0m\n\u001b[1;37m    ^\u001b[0m\n\u001b[1;31mIndentationError\u001b[0m\u001b[1;31m:\u001b[0m unexpected indent\n"
     ]
    }
   ],
   "source": [
    "n_nodes = adjacency.shape[0]\n",
    "\n",
    "def plot_fourier_basis(eigenvectors,index):\n",
    "    plt.plot(np.arange(n_nodes),eigenvectors[:,index])\n",
    "    plt.title(\"Fourier basis #{}\".format(index+1))\n",
    "    plt.xlabel(\"Element number\")\n",
    "    plt.show()\n",
    "    \n",
    "def GFT(x):\n",
    "    return x @ U\n",
    "\n",
    "def iGFT(x):\n",
    "    return x @ U.T\n",
    "\n",
    "def plot_graph(G,node_color):\n",
    "    pos = nx.spring_layout(G)\n",
    "    plt.figure(figsize=(20,10))\n",
    "    nx.draw_networkx_edges(G,pos,alpha=0.2)\n",
    "    nc = nx.draw_networkx_nodes(G,pos,with_labels=True,node_color= node_color,cmap=plt.get_cmap('coolwarm'))\n",
    "    nx.draw_networkx_labels(G, pos, alpha=0.5)\n",
    "    plt.colorbar(nc)\n",
    "    plt.axis('off')\n",
    "    plt.show()\n",
    "\n",
    "def plot_signal(signal,remove_0 = False):\n",
    "    adjacency_temp = adjacency.copy()\n",
    "    \n",
    "    print(adjacency[69,42])\n",
    "print(adjacency[77,50])\n",
    "    \n",
    "    if remove_0:\n",
    "        idx = np.nonzero(signal)[0]\n",
    "        adjacency_temp = adjacency_temp[np.ix_(idx,idx)]\n",
    "        signal = signal[idx]\n",
    "        \n",
    "    G = nx.from_numpy_matrix(adjacency_temp)\n",
    "    plot_graph(G,np.round(signal,5))\n",
    "\n",
    "e,U =  sc.linalg.eigh(laplacian)\n",
    "\n",
    "plot_fourier_basis(U,0)\n",
    "plot_fourier_basis(U,1)\n",
    "plot_fourier_basis(U,4)\n",
    "plot_fourier_basis(U,n_nodes-1)\n",
    "\n",
    "\n",
    "dict_mapping = {'R':2,'D':0,'I':1}\n",
    "labels = np.squeeze(np.vectorize(dict_mapping.get)(senators),axis=1)[nodes_to_keep]\n",
    "\n",
    "plot_signal(labels)\n"
   ]
  },
  {
   "cell_type": "code",
   "execution_count": 26,
   "metadata": {},
   "outputs": [
    {
     "ename": "NameError",
     "evalue": "name 'plot_signal' is not defined",
     "output_type": "error",
     "traceback": [
      "\u001b[1;31m---------------------------------------------------------------------------\u001b[0m",
      "\u001b[1;31mNameError\u001b[0m                                 Traceback (most recent call last)",
      "\u001b[1;32m<ipython-input-26-94dfac758401>\u001b[0m in \u001b[0;36m<module>\u001b[1;34m()\u001b[0m\n\u001b[1;32m----> 1\u001b[1;33m \u001b[0mplot_signal\u001b[0m\u001b[1;33m(\u001b[0m\u001b[0mU\u001b[0m\u001b[1;33m[\u001b[0m\u001b[1;33m:\u001b[0m\u001b[1;33m,\u001b[0m\u001b[1;36m5\u001b[0m\u001b[1;33m]\u001b[0m\u001b[1;33m)\u001b[0m\u001b[1;33m\u001b[0m\u001b[0m\n\u001b[0m",
      "\u001b[1;31mNameError\u001b[0m: name 'plot_signal' is not defined"
     ]
    }
   ],
   "source": [
    "plot_signal(U[:,5])"
   ]
  },
  {
   "cell_type": "code",
   "execution_count": null,
   "metadata": {},
   "outputs": [],
   "source": []
  }
 ],
 "metadata": {
  "kernelspec": {
   "display_name": "Python 3",
   "language": "python",
   "name": "python3"
  },
  "language_info": {
   "codemirror_mode": {
    "name": "ipython",
    "version": 3
   },
   "file_extension": ".py",
   "mimetype": "text/x-python",
   "name": "python",
   "nbconvert_exporter": "python",
   "pygments_lexer": "ipython3",
   "version": "3.6.6"
  }
 },
 "nbformat": 4,
 "nbformat_minor": 2
}
